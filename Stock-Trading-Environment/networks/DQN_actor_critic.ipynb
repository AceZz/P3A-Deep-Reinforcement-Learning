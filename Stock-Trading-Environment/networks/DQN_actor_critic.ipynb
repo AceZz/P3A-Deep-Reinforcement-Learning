{
 "cells": [
  {
   "cell_type": "code",
   "execution_count": 7,
   "metadata": {},
   "outputs": [],
   "source": [
    "import numpy as np\n",
    "import tensorflow as tf\n",
    "import gym\n",
    "import os\n",
    "import datetime\n",
    "import json\n",
    "import datetime as dt\n",
    "from gym import wrappers"
   ]
  },
  {
   "cell_type": "code",
   "execution_count": null,
   "metadata": {},
   "outputs": [],
   "source": [
    "class MyModel(tf.keras.Model):\n",
    "    \n",
    "    def __init__(self, input_shape, nbr_filters, kernel_size, strides,num_actions): #previously input_shape was num_states\n",
    "        super(MyModel, self).__init__()\n",
    "        \n",
    "        M = input_shape[0]\n",
    "        N = input_shape[1]\n",
    "        L = input_shape[2]\n",
    "        \n",
    "        self.conv1 = tf.keras.layers.Conv2D(\n",
    "            filters = nbr_filters, kernel_size = kernel_size, stride = strides, padding = \"valid\", \n",
    "            kernel_initializer = tf.keras.initializers.TruncatedNormal([M,L,N,32], stddev=0.15)\n",
    "            )\n",
    "        \n",
    "        self.conv2 = tf.keras.layers.Conv2D(\n",
    "            filters = nbr_filters, kernel_size = kernel_size, stride = strides, padding = \"valid\", \n",
    "            kernel_initializer = tf.keras.initializers.TruncatedNormal([1,1,32,1], stddev=0.15)\n",
    "            )      \n",
    "         \n",
    "            \n",
    "    @tf.function\n",
    "    def call(self, inputs):\n",
    "        z = self.self.conv1(inputs)\n",
    "        z = tf.layers.batch_normalization(z)\n",
    "        z = self.self.conv2(z)\n",
    "        z = tf.layers.batch_normalization(z)\n",
    "\n",
    "        \n",
    "        return z\n"
   ]
  }
 ],
 "metadata": {
  "kernelspec": {
   "display_name": "PyCharm (reinforcement-learning-master)",
   "language": "python",
   "name": "pycharm-7a748578"
  },
  "language_info": {
   "codemirror_mode": {
    "name": "ipython",
    "version": 3
   },
   "file_extension": ".py",
   "mimetype": "text/x-python",
   "name": "python",
   "nbconvert_exporter": "python",
   "pygments_lexer": "ipython3",
   "version": "3.7.5"
  }
 },
 "nbformat": 4,
 "nbformat_minor": 2
}
