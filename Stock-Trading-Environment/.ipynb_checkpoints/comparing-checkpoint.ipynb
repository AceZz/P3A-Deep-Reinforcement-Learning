{
 "cells": [
  {
   "cell_type": "code",
   "execution_count": 1,
   "metadata": {
    "pycharm": {
     "is_executing": false
    }
   },
   "outputs": [],
   "source": [
    "import numpy as np\n",
    "import pandas as pd\n",
    "import matplotlib.pyplot as plt\n",
    "\n",
    "from utils.utils import convert_action"
   ]
  },
  {
   "cell_type": "markdown",
   "metadata": {},
   "source": [
    "website to find .csv:"
   ]
  },
  {
   "cell_type": "code",
   "execution_count": 2,
   "metadata": {
    "pycharm": {
     "is_executing": false
    }
   },
   "outputs": [],
   "source": [
    "df = pd.read_csv('./data/AAPL.csv', index_col=0)\n",
    "# df['Date'] = pd.to_datetime(df.Date, format=\"%d/%m/%Y\")\n",
    "# df = df.sort_values('Date')\n",
    "# df.to_csv('./data/AAPL.csv')"
   ]
  },
  {
   "cell_type": "code",
   "execution_count": 3,
   "metadata": {
    "pycharm": {
     "is_executing": false
    },
    "scrolled": true
   },
   "outputs": [
    {
     "data": {
      "text/plain": [
       "<matplotlib.axes._subplots.AxesSubplot at 0x22726b09908>"
      ]
     },
     "execution_count": 3,
     "metadata": {},
     "output_type": "execute_result"
    },
    {
     "data": {
      "image/png": "[encoded data removed]",
      "text/plain": [
       "<Figure size 432x288 with 1 Axes>"
      ]
     },
     "metadata": {
      "needs_background": "light"
     },
     "output_type": "display_data"
    }
   ],
   "source": [
    "df.plot(x=\"Date\", y=\"Close\")"
   ]
  },
  {
   "cell_type": "code",
   "execution_count": 4,
   "metadata": {
    "pycharm": {
     "is_executing": false
    }
   },
   "outputs": [
    {
     "data": {
      "text/html": [
       "<div>\n",
       "<style scoped>\n",
       "    .dataframe tbody tr th:only-of-type {\n",
       "        vertical-align: middle;\n",
       "    }\n",
       "\n",
       "    .dataframe tbody tr th {\n",
       "        vertical-align: top;\n",
       "    }\n",
       "\n",
       "    .dataframe thead th {\n",
       "        text-align: right;\n",
       "    }\n",
       "</style>\n",
       "<table border=\"1\" class=\"dataframe\">\n",
       "  <thead>\n",
       "    <tr style=\"text-align: right;\">\n",
       "      <th></th>\n",
       "      <th>Date</th>\n",
       "      <th>Open</th>\n",
       "      <th>High</th>\n",
       "      <th>Low</th>\n",
       "      <th>Close</th>\n",
       "      <th>Adj Close</th>\n",
       "      <th>Volume</th>\n",
       "    </tr>\n",
       "  </thead>\n",
       "  <tbody>\n",
       "    <tr>\n",
       "      <th>0</th>\n",
       "      <td>2000-01-03</td>\n",
       "      <td>3.745536</td>\n",
       "      <td>4.017857</td>\n",
       "      <td>3.631696</td>\n",
       "      <td>3.997768</td>\n",
       "      <td>3.478462</td>\n",
       "      <td>133949200</td>\n",
       "    </tr>\n",
       "    <tr>\n",
       "      <th>1</th>\n",
       "      <td>2000-01-04</td>\n",
       "      <td>3.866071</td>\n",
       "      <td>3.950893</td>\n",
       "      <td>3.613839</td>\n",
       "      <td>3.660714</td>\n",
       "      <td>3.185191</td>\n",
       "      <td>128094400</td>\n",
       "    </tr>\n",
       "    <tr>\n",
       "      <th>2</th>\n",
       "      <td>2000-01-05</td>\n",
       "      <td>3.705357</td>\n",
       "      <td>3.948661</td>\n",
       "      <td>3.678571</td>\n",
       "      <td>3.714286</td>\n",
       "      <td>3.231803</td>\n",
       "      <td>194580400</td>\n",
       "    </tr>\n",
       "    <tr>\n",
       "      <th>3</th>\n",
       "      <td>2000-01-06</td>\n",
       "      <td>3.790179</td>\n",
       "      <td>3.821429</td>\n",
       "      <td>3.392857</td>\n",
       "      <td>3.392857</td>\n",
       "      <td>2.952128</td>\n",
       "      <td>191993200</td>\n",
       "    </tr>\n",
       "    <tr>\n",
       "      <th>4</th>\n",
       "      <td>2000-01-07</td>\n",
       "      <td>3.446429</td>\n",
       "      <td>3.607143</td>\n",
       "      <td>3.410714</td>\n",
       "      <td>3.553571</td>\n",
       "      <td>3.091966</td>\n",
       "      <td>115183600</td>\n",
       "    </tr>\n",
       "  </tbody>\n",
       "</table>\n",
       "</div>"
      ],
      "text/plain": [
       "         Date      Open      High       Low     Close  Adj Close     Volume\n",
       "0  2000-01-03  3.745536  4.017857  3.631696  3.997768   3.478462  133949200\n",
       "1  2000-01-04  3.866071  3.950893  3.613839  3.660714   3.185191  128094400\n",
       "2  2000-01-05  3.705357  3.948661  3.678571  3.714286   3.231803  194580400\n",
       "3  2000-01-06  3.790179  3.821429  3.392857  3.392857   2.952128  191993200\n",
       "4  2000-01-07  3.446429  3.607143  3.410714  3.553571   3.091966  115183600"
      ]
     },
     "execution_count": 4,
     "metadata": {},
     "output_type": "execute_result"
    }
   ],
   "source": [
    "df.head()"
   ]
  },
  {
   "cell_type": "markdown",
   "metadata": {},
   "source": [
    "## Let the DQN trade"
   ]
  },
  {
   "cell_type": "code",
   "execution_count": 5,
   "metadata": {
    "pycharm": {
     "is_executing": false
    }
   },
   "outputs": [],
   "source": [
    "from networks.DQN import MyModel\n",
    "from env.StockTradingEnv import StockTradingEnv\n",
    "import tensorflow as tf\n",
    "\n",
    "from tensorflow.keras.models import load_model"
   ]
  },
  {
   "cell_type": "markdown",
   "metadata": {},
   "source": [
    "### Parameters of the DQN model (taken from main_with_dqn)"
   ]
  },
  {
   "cell_type": "code",
   "execution_count": 6,
   "metadata": {
    "pycharm": {
     "is_executing": false
    }
   },
   "outputs": [],
   "source": [
    "df = pd.read_csv('./data/AAPL_val.csv')\n",
    "df = df.sort_values('Date')\n",
    "env = StockTradingEnv(df)\n",
    "\n",
    "num_actions = 3\n",
    "hidden_units = [64,128,256,256,128,64]\n",
    "input_shape = env.observation_space.sample().shape\n",
    "in_log = True ### for the environment to use logs and no divisions by max value\n",
    "\n",
    "path_weights_a = \"save_models/DQN_200\" # last number is number of episodes trained\n",
    "path_weights_b = \"save_models/DQN_400\"\n",
    "path_weights_c = \"save_models/DQN_1000\""
   ]
  },
  {
   "cell_type": "markdown",
   "metadata": {},
   "source": [
    "### Build the Agent"
   ]
  },
  {
   "cell_type": "code",
   "execution_count": 7,
   "metadata": {
    "pycharm": {
     "is_executing": false
    }
   },
   "outputs": [],
   "source": [
    "class TradingAgent():\n",
    "    \"\"\"A class to simplify the trading decisions\"\"\"\n",
    "    def __init__(self, model, path_weights, name):\n",
    "        self.model = model\n",
    "        self.model.load_weights(path_weights)\n",
    "        self.name = name # name of the agent\n",
    "    \n",
    "    def get_action(self, state): #meant for only a single state for input\n",
    "        prediction = self.model.predict(state)\n",
    "        return np.argmax(prediction[0])"
   ]
  },
  {
   "cell_type": "code",
   "execution_count": 8,
   "metadata": {
    "pycharm": {
     "is_executing": false
    }
   },
   "outputs": [],
   "source": [
    "trade_model_a = MyModel(input_shape, hidden_units, num_actions)\n",
    "trade_model_b = MyModel(input_shape, hidden_units, num_actions)\n",
    "trade_model_c = MyModel(input_shape, hidden_units, num_actions)\n",
    "\n",
    "# trade_model.load_weights(path_weights)\n",
    "Agent_a = TradingAgent(trade_model_a, path_weights_a, \"agent_a\")\n",
    "Agent_b = TradingAgent(trade_model_b, path_weights_b, \"agent_b\")\n",
    "Agent_c = TradingAgent(trade_model_c, path_weights_c, \"agent_c\")\n",
    "\n",
    "agents = [Agent_a, Agent_b, Agent_c]"
   ]
  },
  {
   "cell_type": "markdown",
   "metadata": {},
   "source": [
    "### Run over the data frame"
   ]
  },
  {
   "cell_type": "code",
   "execution_count": 9,
   "metadata": {
    "pycharm": {
     "is_executing": false
    }
   },
   "outputs": [
    {
     "name": "stderr",
     "output_type": "stream",
     "text": [
      "C:\\Users\\Tristan\\Documents\\Polytechnique\\P3A_DRL\\P3A-Deep-Reinforcement-Learning\\Stock-Trading-Environment\\env\\StockTradingEnv.py:90: RuntimeWarning: divide by zero encountered in log\n",
      "  obs = np.log(obs)\n"
     ]
    },
    {
     "name": "stdout",
     "output_type": "stream",
     "text": [
      " agent_a, day 999 out of 999\n",
      " agent_b, day 999 out of 999\n",
      " agent_c, day 999 out of 999\n",
      "last net_worth: 17861.901509552124\n"
     ]
    }
   ],
   "source": [
    "df_results = pd.DataFrame(columns=['Date','Index', 'agent_a', 'agent_b', 'agent_c'], index=df.index)\n",
    "df_results['Date'] = df['Date']\n",
    "\n",
    "# Compute the Index value\n",
    "for i in range(len(df.loc[:, 'Open'].values) - 6):\n",
    "    df_results.loc[i+5, \"Index\"] = df.loc[i+5, \"Close\"] * env.initial_account_balance / df.loc[5, \"Close\"] # i + 5 because of the format of the data\n",
    "    \n",
    "# Compute the Agents' net_worth\n",
    "for Agent in agents:\n",
    "    env = StockTradingEnv(df, in_log=in_log)\n",
    "    observation = env.reset_to_day_one().reshape(1,6,6).astype('float32') # necessary to reshape each observation\n",
    "    \n",
    "    for i in range(len(df.loc[:, 'Open'].values) - 6):\n",
    "        action = Agent.get_action(observation.reshape(1,6,6).astype('float32'))\n",
    "        action = convert_action(action)\n",
    "        observation, reward, done, _ = env.step(action)\n",
    "\n",
    "        df_results.loc[i+5, Agent.name] = env.net_worth\n",
    "\n",
    "        print(\"\\r {}, day {} out of {}\".format(Agent.name, i, len(df.loc[:, 'Open'].values) - 7), end = \"\")\n",
    "    print(\"\")\n",
    "    \n",
    "print(\"last net_worth: {}\".format(env.net_worth))"
   ]
  },
  {
   "cell_type": "markdown",
   "metadata": {},
   "source": [
    "### Visualize the results"
   ]
  },
  {
   "cell_type": "markdown",
   "metadata": {},
   "source": [
    "#### On training set"
   ]
  },
  {
   "cell_type": "markdown",
   "metadata": {},
   "source": [
    "#### On validation set"
   ]
  },
  {
   "cell_type": "code",
   "execution_count": 10,
   "metadata": {
    "pycharm": {
     "is_executing": false
    }
   },
   "outputs": [
    {
     "data": {
      "image/png": "[encoded data removed]",
      "text/plain": [
       "<Figure size 432x288 with 1 Axes>"
      ]
     },
     "metadata": {
      "needs_background": "light"
     },
     "output_type": "display_data"
    }
   ],
   "source": [
    "fig = df_results.plot(x=\"Date\", y=[\"Index\", \"agent_a\", \"agent_b\", \"agent_c\"]).get_figure()\n",
    "fig.savefig(\"imgs/DQN_mlp.png\")"
   ]
  }
 ],
 "metadata": {
  "kernelspec": {
   "display_name": "Python 3",
   "language": "python",
   "name": "python3"
  },
  "language_info": {
   "codemirror_mode": {
    "name": "ipython",
    "version": 3
   },
   "file_extension": ".py",
   "mimetype": "text/x-python",
   "name": "python",
   "nbconvert_exporter": "python",
   "pygments_lexer": "ipython3",
   "version": "3.7.6"
  }
 },
 "nbformat": 4,
 "nbformat_minor": 2
}
