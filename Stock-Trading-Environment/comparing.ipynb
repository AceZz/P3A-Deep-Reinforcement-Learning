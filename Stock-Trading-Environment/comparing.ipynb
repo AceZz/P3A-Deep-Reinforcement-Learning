{
 "cells": [
  {
   "cell_type": "code",
   "execution_count": 1,
   "metadata": {
    "pycharm": {
     "is_executing": false
    }
   },
   "outputs": [],
   "source": [
    "import numpy as np\n",
    "import pandas as pd\n",
    "import matplotlib.pyplot as plt\n",
    "import pickle\n",
    "\n",
    "from utils.utils import convert_action"
   ]
  },
  {
   "cell_type": "markdown",
   "metadata": {},
   "source": [
    "website to find .csv:"
   ]
  },
  {
   "cell_type": "code",
   "execution_count": 2,
   "metadata": {
    "pycharm": {
     "is_executing": false
    }
   },
   "outputs": [
    {
     "data": {
      "text/html": [
       "<div>\n",
       "<style scoped>\n",
       "    .dataframe tbody tr th:only-of-type {\n",
       "        vertical-align: middle;\n",
       "    }\n",
       "\n",
       "    .dataframe tbody tr th {\n",
       "        vertical-align: top;\n",
       "    }\n",
       "\n",
       "    .dataframe thead th {\n",
       "        text-align: right;\n",
       "    }\n",
       "</style>\n",
       "<table border=\"1\" class=\"dataframe\">\n",
       "  <thead>\n",
       "    <tr style=\"text-align: right;\">\n",
       "      <th></th>\n",
       "      <th>Date</th>\n",
       "      <th>Open</th>\n",
       "      <th>High</th>\n",
       "      <th>Low</th>\n",
       "      <th>Close</th>\n",
       "      <th>Volume</th>\n",
       "    </tr>\n",
       "  </thead>\n",
       "  <tbody>\n",
       "    <tr>\n",
       "      <th>0</th>\n",
       "      <td>2011-12-30</td>\n",
       "      <td>186.330002</td>\n",
       "      <td>186.479996</td>\n",
       "      <td>183.850006</td>\n",
       "      <td>183.880005</td>\n",
       "      <td>3530900</td>\n",
       "    </tr>\n",
       "    <tr>\n",
       "      <th>1</th>\n",
       "      <td>2012-01-03</td>\n",
       "      <td>186.729996</td>\n",
       "      <td>188.710007</td>\n",
       "      <td>186.000000</td>\n",
       "      <td>186.300003</td>\n",
       "      <td>5646000</td>\n",
       "    </tr>\n",
       "    <tr>\n",
       "      <th>2</th>\n",
       "      <td>2012-01-04</td>\n",
       "      <td>185.570007</td>\n",
       "      <td>186.330002</td>\n",
       "      <td>184.940002</td>\n",
       "      <td>185.539993</td>\n",
       "      <td>4346700</td>\n",
       "    </tr>\n",
       "    <tr>\n",
       "      <th>3</th>\n",
       "      <td>2012-01-05</td>\n",
       "      <td>184.809998</td>\n",
       "      <td>185.029999</td>\n",
       "      <td>183.100006</td>\n",
       "      <td>184.660004</td>\n",
       "      <td>4463100</td>\n",
       "    </tr>\n",
       "    <tr>\n",
       "      <th>4</th>\n",
       "      <td>2012-01-06</td>\n",
       "      <td>184.389999</td>\n",
       "      <td>184.479996</td>\n",
       "      <td>182.309998</td>\n",
       "      <td>182.539993</td>\n",
       "      <td>4897100</td>\n",
       "    </tr>\n",
       "  </tbody>\n",
       "</table>\n",
       "</div>"
      ],
      "text/plain": [
       "         Date        Open        High         Low       Close   Volume\n",
       "0  2011-12-30  186.330002  186.479996  183.850006  183.880005  3530900\n",
       "1  2012-01-03  186.729996  188.710007  186.000000  186.300003  5646000\n",
       "2  2012-01-04  185.570007  186.330002  184.940002  185.539993  4346700\n",
       "3  2012-01-05  184.809998  185.029999  183.100006  184.660004  4463100\n",
       "4  2012-01-06  184.389999  184.479996  182.309998  182.539993  4897100"
      ]
     },
     "execution_count": 2,
     "metadata": {},
     "output_type": "execute_result"
    }
   ],
   "source": [
    "df = pd.read_csv('./data/IBM_val.csv')\n",
    "# df['Date'] = pd.to_datetime(df.Date, format=\"%d/%m/%Y\")\n",
    "# df = df.sort_values('Date')\n",
    "# df.to_csv('./data/AAPL.csv')\n",
    "df[['Date','Open','High','Low','Close','Volume']].head()"
   ]
  },
  {
   "cell_type": "code",
   "execution_count": 3,
   "metadata": {
    "pycharm": {
     "is_executing": false
    },
    "scrolled": true
   },
   "outputs": [
    {
     "data": {
      "text/plain": [
       "<matplotlib.axes._subplots.AxesSubplot at 0x1851c6aff48>"
      ]
     },
     "execution_count": 3,
     "metadata": {},
     "output_type": "execute_result"
    },
    {
     "data": {
      "image/png": "[encoded data removed]",
      "text/plain": [
       "<Figure size 432x288 with 1 Axes>"
      ]
     },
     "metadata": {
      "needs_background": "light"
     },
     "output_type": "display_data"
    }
   ],
   "source": [
    "df.plot(x=\"Date\", y=\"Close\")"
   ]
  },
  {
   "cell_type": "code",
   "execution_count": 4,
   "metadata": {
    "pycharm": {
     "is_executing": false
    }
   },
   "outputs": [
    {
     "data": {
      "text/html": [
       "<div>\n",
       "<style scoped>\n",
       "    .dataframe tbody tr th:only-of-type {\n",
       "        vertical-align: middle;\n",
       "    }\n",
       "\n",
       "    .dataframe tbody tr th {\n",
       "        vertical-align: top;\n",
       "    }\n",
       "\n",
       "    .dataframe thead th {\n",
       "        text-align: right;\n",
       "    }\n",
       "</style>\n",
       "<table border=\"1\" class=\"dataframe\">\n",
       "  <thead>\n",
       "    <tr style=\"text-align: right;\">\n",
       "      <th></th>\n",
       "      <th>Unnamed: 0</th>\n",
       "      <th>index</th>\n",
       "      <th>Date</th>\n",
       "      <th>Open</th>\n",
       "      <th>High</th>\n",
       "      <th>Low</th>\n",
       "      <th>Close</th>\n",
       "      <th>Adj Close</th>\n",
       "      <th>Volume</th>\n",
       "    </tr>\n",
       "  </thead>\n",
       "  <tbody>\n",
       "    <tr>\n",
       "      <th>0</th>\n",
       "      <td>0</td>\n",
       "      <td>3018</td>\n",
       "      <td>2011-12-30</td>\n",
       "      <td>186.330002</td>\n",
       "      <td>186.479996</td>\n",
       "      <td>183.850006</td>\n",
       "      <td>183.880005</td>\n",
       "      <td>138.116348</td>\n",
       "      <td>3530900</td>\n",
       "    </tr>\n",
       "    <tr>\n",
       "      <th>1</th>\n",
       "      <td>1</td>\n",
       "      <td>3019</td>\n",
       "      <td>2012-01-03</td>\n",
       "      <td>186.729996</td>\n",
       "      <td>188.710007</td>\n",
       "      <td>186.000000</td>\n",
       "      <td>186.300003</td>\n",
       "      <td>139.934006</td>\n",
       "      <td>5646000</td>\n",
       "    </tr>\n",
       "    <tr>\n",
       "      <th>2</th>\n",
       "      <td>2</td>\n",
       "      <td>3020</td>\n",
       "      <td>2012-01-04</td>\n",
       "      <td>185.570007</td>\n",
       "      <td>186.330002</td>\n",
       "      <td>184.940002</td>\n",
       "      <td>185.539993</td>\n",
       "      <td>139.363144</td>\n",
       "      <td>4346700</td>\n",
       "    </tr>\n",
       "    <tr>\n",
       "      <th>3</th>\n",
       "      <td>3</td>\n",
       "      <td>3021</td>\n",
       "      <td>2012-01-05</td>\n",
       "      <td>184.809998</td>\n",
       "      <td>185.029999</td>\n",
       "      <td>183.100006</td>\n",
       "      <td>184.660004</td>\n",
       "      <td>138.702209</td>\n",
       "      <td>4463100</td>\n",
       "    </tr>\n",
       "    <tr>\n",
       "      <th>4</th>\n",
       "      <td>4</td>\n",
       "      <td>3022</td>\n",
       "      <td>2012-01-06</td>\n",
       "      <td>184.389999</td>\n",
       "      <td>184.479996</td>\n",
       "      <td>182.309998</td>\n",
       "      <td>182.539993</td>\n",
       "      <td>137.109772</td>\n",
       "      <td>4897100</td>\n",
       "    </tr>\n",
       "  </tbody>\n",
       "</table>\n",
       "</div>"
      ],
      "text/plain": [
       "   Unnamed: 0  index        Date        Open        High         Low  \\\n",
       "0           0   3018  2011-12-30  186.330002  186.479996  183.850006   \n",
       "1           1   3019  2012-01-03  186.729996  188.710007  186.000000   \n",
       "2           2   3020  2012-01-04  185.570007  186.330002  184.940002   \n",
       "3           3   3021  2012-01-05  184.809998  185.029999  183.100006   \n",
       "4           4   3022  2012-01-06  184.389999  184.479996  182.309998   \n",
       "\n",
       "        Close   Adj Close   Volume  \n",
       "0  183.880005  138.116348  3530900  \n",
       "1  186.300003  139.934006  5646000  \n",
       "2  185.539993  139.363144  4346700  \n",
       "3  184.660004  138.702209  4463100  \n",
       "4  182.539993  137.109772  4897100  "
      ]
     },
     "execution_count": 4,
     "metadata": {},
     "output_type": "execute_result"
    }
   ],
   "source": [
    "df.head()"
   ]
  },
  {
   "cell_type": "markdown",
   "metadata": {},
   "source": [
    "## Let the DQN trade"
   ]
  },
  {
   "cell_type": "code",
   "execution_count": 5,
   "metadata": {
    "pycharm": {
     "is_executing": false
    }
   },
   "outputs": [],
   "source": [
    "from networks.DQN import MyModel\n",
    "from env.StockTradingEnv import StockTradingEnv\n",
    "import tensorflow as tf\n",
    "\n",
    "from tensorflow.keras.models import load_model"
   ]
  },
  {
   "cell_type": "markdown",
   "metadata": {},
   "source": [
    "### Parameters of the DQN model (taken from main_with_dqn)"
   ]
  },
  {
   "cell_type": "code",
   "execution_count": 6,
   "metadata": {
    "pycharm": {
     "is_executing": false
    }
   },
   "outputs": [],
   "source": [
    "env = StockTradingEnv(df)\n",
    "\n",
    "num_actions = 2\n",
    "hidden_units = [64,128,256,256,128,64]\n",
    "input_shape = env.observation_space.sample().shape\n",
    "in_log = True ### for the environment to use logs and no divisions by max value\n",
    "\n",
    "path_weights_a = \"save_models/DQN_best\" # last number is number of episodes trained\n",
    "path_weights_b = \"save_models/DQN_400\"\n",
    "path_weights_c = \"save_models/DQN_1000\""
   ]
  },
  {
   "cell_type": "markdown",
   "metadata": {},
   "source": [
    "### Build the Agent"
   ]
  },
  {
   "cell_type": "code",
   "execution_count": 7,
   "metadata": {
    "pycharm": {
     "is_executing": false
    }
   },
   "outputs": [],
   "source": [
    "class TradingAgent():\n",
    "    \"\"\"A class to simplify the trading decisions\"\"\"\n",
    "    def __init__(self, model, path_weights, name):\n",
    "        self.model = model\n",
    "        self.model.load_weights(path_weights)\n",
    "        self.name = name # name of the agent\n",
    "    \n",
    "    def get_action(self, state): #meant for only a single state for input\n",
    "        prediction = self.model.predict(state)\n",
    "        return np.argmax(prediction[0])"
   ]
  },
  {
   "cell_type": "code",
   "execution_count": 8,
   "metadata": {
    "pycharm": {
     "is_executing": false
    }
   },
   "outputs": [],
   "source": [
    "trade_model_a = MyModel(input_shape, hidden_units, num_actions)\n",
    "trade_model_b = MyModel(input_shape, hidden_units, num_actions)\n",
    "trade_model_c = MyModel(input_shape, hidden_units, num_actions)\n",
    "\n",
    "# trade_model.load_weights(path_weights)\n",
    "Agent_a = TradingAgent(trade_model_a, path_weights_a, \"agent_a\")\n",
    "Agent_b = TradingAgent(trade_model_b, path_weights_b, \"agent_b\")\n",
    "Agent_c = TradingAgent(trade_model_c, path_weights_c, \"agent_c\")\n",
    "\n",
    "agents = [Agent_a]"
   ]
  },
  {
   "cell_type": "markdown",
   "metadata": {},
   "source": [
    "### Run over the data frame"
   ]
  },
  {
   "cell_type": "code",
   "execution_count": 9,
   "metadata": {
    "pycharm": {
     "is_executing": true
    }
   },
   "outputs": [
    {
     "name": "stdout",
     "output_type": "stream",
     "text": [
      " agent_a, day 999 out of 999\n",
      "last net_worth: 9931.31131150229\n"
     ]
    }
   ],
   "source": [
    "df_results = pd.DataFrame(columns=['Date','Index', 'agent_a', 'agent_b', 'agent_c'], index=df.index)\n",
    "df_results['Date'] = df['Date']\n",
    "\n",
    "with open(\"./data/actions.txt\", \"rb\") as fp:   # Unpickling\n",
    "    actions = pickle.load(fp)\n",
    "\n",
    "# Compute the Index value\n",
    "for i in range(len(df.loc[:, 'Open'].values) - 6):\n",
    "    df_results.loc[i+5, \"Index\"] = df.loc[i+5, \"Close\"] * env.initial_account_balance / df.loc[5, \"Close\"] # i + 5 because of the format of the data\n",
    "    \n",
    "# Compute the Agents' net_worth\n",
    "for Agent in agents:\n",
    "    env = StockTradingEnv(df)\n",
    "    input_shape = env.observation_space.sample().shape\n",
    "    observation = env.reset_to_day_one().reshape(1,input_shape[0],input_shape[1]).astype('float32') # necessary to reshape each observation\n",
    "    \n",
    "    for i in range(len(df.loc[:, 'Open'].values) - 6):\n",
    "        action = Agent.get_action(observation.reshape(1,input_shape[0],input_shape[1]).astype('float32'))\n",
    "                    \n",
    "        action = convert_action(action, binary_action=True)\n",
    "        observation, reward, done, _ = env.step(action)\n",
    "\n",
    "        df_results.loc[i+5, Agent.name] = env.net_worth\n",
    "\n",
    "        print(\"\\r {}, day {} out of {}\".format(Agent.name, i, len(df.loc[:, 'Open'].values) - 7), end = \"\")\n",
    "    print(\"\")\n",
    "    \n",
    "    print(\"last net_worth: {}\".format(env.net_worth))\n",
    "    \n",
    "    env.close()"
   ]
  },
  {
   "cell_type": "markdown",
   "metadata": {},
   "source": [
    "### Visualize the results"
   ]
  },
  {
   "cell_type": "markdown",
   "metadata": {},
   "source": [
    "#### On training set"
   ]
  },
  {
   "cell_type": "markdown",
   "metadata": {},
   "source": [
    "#### On validation set"
   ]
  },
  {
   "cell_type": "code",
   "execution_count": 10,
   "metadata": {
    "pycharm": {
     "is_executing": true
    }
   },
   "outputs": [
    {
     "data": {
      "image/png": "[encoded data removed]",
      "text/plain": [
       "<Figure size 432x288 with 1 Axes>"
      ]
     },
     "metadata": {
      "needs_background": "light"
     },
     "output_type": "display_data"
    }
   ],
   "source": [
    "fig = df_results.plot(x=\"Date\", y=[\"Index\", \"agent_a\", \"agent_b\", \"agent_c\"]).get_figure()\n",
    "fig.savefig(\"imgs/DQN_mlp.png\")"
   ]
  }
 ],
 "metadata": {
  "kernelspec": {
   "display_name": "Python 3",
   "language": "python",
   "name": "python3"
  },
  "language_info": {
   "codemirror_mode": {
    "name": "ipython",
    "version": 3
   },
   "file_extension": ".py",
   "mimetype": "text/x-python",
   "name": "python",
   "nbconvert_exporter": "python",
   "pygments_lexer": "ipython3",
   "version": "3.7.6"
  },
  "pycharm": {
   "stem_cell": {
    "cell_type": "raw",
    "metadata": {
     "collapsed": false
    },
    "source": []
   }
  }
 },
 "nbformat": 4,
 "nbformat_minor": 2
}
