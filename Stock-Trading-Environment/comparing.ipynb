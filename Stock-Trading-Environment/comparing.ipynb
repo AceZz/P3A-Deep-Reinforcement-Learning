{
 "cells": [
  {
   "cell_type": "code",
   "execution_count": 1,
   "metadata": {
    "pycharm": {
     "is_executing": false
    }
   },
   "outputs": [],
   "source": [
    "import numpy as np\n",
    "import pandas as pd\n",
    "import matplotlib.pyplot as plt\n",
    "\n",
    "from utils.utils import convert_action"
   ]
  },
  {
   "cell_type": "markdown",
   "metadata": {},
   "source": [
    "website to find .csv:"
   ]
  },
  {
   "cell_type": "code",
   "execution_count": 2,
   "metadata": {
    "pycharm": {
     "is_executing": false
    }
   },
   "outputs": [
    {
     "data": {
      "text/html": [
       "<div>\n",
       "<style scoped>\n",
       "    .dataframe tbody tr th:only-of-type {\n",
       "        vertical-align: middle;\n",
       "    }\n",
       "\n",
       "    .dataframe tbody tr th {\n",
       "        vertical-align: top;\n",
       "    }\n",
       "\n",
       "    .dataframe thead th {\n",
       "        text-align: right;\n",
       "    }\n",
       "</style>\n",
       "<table border=\"1\" class=\"dataframe\">\n",
       "  <thead>\n",
       "    <tr style=\"text-align: right;\">\n",
       "      <th></th>\n",
       "      <th>index</th>\n",
       "      <th>Date</th>\n",
       "      <th>Open</th>\n",
       "      <th>High</th>\n",
       "      <th>Low</th>\n",
       "      <th>Close</th>\n",
       "      <th>Adj Close</th>\n",
       "      <th>Volume</th>\n",
       "    </tr>\n",
       "  </thead>\n",
       "  <tbody>\n",
       "    <tr>\n",
       "      <th>0</th>\n",
       "      <td>4024</td>\n",
       "      <td>2015-12-31</td>\n",
       "      <td>139.070007</td>\n",
       "      <td>139.100006</td>\n",
       "      <td>137.570007</td>\n",
       "      <td>137.619995</td>\n",
       "      <td>114.207855</td>\n",
       "      <td>3462100</td>\n",
       "    </tr>\n",
       "    <tr>\n",
       "      <th>1</th>\n",
       "      <td>4025</td>\n",
       "      <td>2016-01-04</td>\n",
       "      <td>135.600006</td>\n",
       "      <td>135.970001</td>\n",
       "      <td>134.240005</td>\n",
       "      <td>135.949997</td>\n",
       "      <td>112.821960</td>\n",
       "      <td>5229400</td>\n",
       "    </tr>\n",
       "    <tr>\n",
       "      <th>2</th>\n",
       "      <td>4026</td>\n",
       "      <td>2016-01-05</td>\n",
       "      <td>136.759995</td>\n",
       "      <td>136.889999</td>\n",
       "      <td>134.850006</td>\n",
       "      <td>135.850006</td>\n",
       "      <td>112.738976</td>\n",
       "      <td>3924800</td>\n",
       "    </tr>\n",
       "    <tr>\n",
       "      <th>3</th>\n",
       "      <td>4027</td>\n",
       "      <td>2016-01-06</td>\n",
       "      <td>134.380005</td>\n",
       "      <td>135.580002</td>\n",
       "      <td>133.619995</td>\n",
       "      <td>135.169998</td>\n",
       "      <td>112.174667</td>\n",
       "      <td>4310900</td>\n",
       "    </tr>\n",
       "    <tr>\n",
       "      <th>4</th>\n",
       "      <td>4028</td>\n",
       "      <td>2016-01-07</td>\n",
       "      <td>133.699997</td>\n",
       "      <td>135.020004</td>\n",
       "      <td>132.429993</td>\n",
       "      <td>132.860001</td>\n",
       "      <td>110.257637</td>\n",
       "      <td>7025800</td>\n",
       "    </tr>\n",
       "  </tbody>\n",
       "</table>\n",
       "</div>"
      ],
      "text/plain": [
       "   index        Date        Open        High         Low       Close  \\\n",
       "0   4024  2015-12-31  139.070007  139.100006  137.570007  137.619995   \n",
       "1   4025  2016-01-04  135.600006  135.970001  134.240005  135.949997   \n",
       "2   4026  2016-01-05  136.759995  136.889999  134.850006  135.850006   \n",
       "3   4027  2016-01-06  134.380005  135.580002  133.619995  135.169998   \n",
       "4   4028  2016-01-07  133.699997  135.020004  132.429993  132.860001   \n",
       "\n",
       "    Adj Close   Volume  \n",
       "0  114.207855  3462100  \n",
       "1  112.821960  5229400  \n",
       "2  112.738976  3924800  \n",
       "3  112.174667  4310900  \n",
       "4  110.257637  7025800  "
      ]
     },
     "execution_count": 2,
     "metadata": {},
     "output_type": "execute_result"
    }
   ],
   "source": [
    "df = pd.read_csv('./data/IBM_test.csv', index_col=0)\n",
    "#df['Date'] = pd.to_datetime(df.Date, format=\"%d/%m/%Y\")\n",
    "#df = df.sort_values('Date')\n",
    "# df.to_csv('./data/AAPL.csv')\n",
    "df.head()"
   ]
  },
  {
   "cell_type": "code",
   "execution_count": 3,
   "metadata": {
    "pycharm": {
     "is_executing": false
    },
    "scrolled": true
   },
   "outputs": [
    {
     "data": {
      "text/plain": [
       "<matplotlib.axes._subplots.AxesSubplot at 0x1eb5bc1a588>"
      ]
     },
     "execution_count": 3,
     "metadata": {},
     "output_type": "execute_result"
    },
    {
     "data": {
      "image/png": "[encoded data removed]",
      "text/plain": [
       "<Figure size 432x288 with 1 Axes>"
      ]
     },
     "metadata": {
      "needs_background": "light"
     },
     "output_type": "display_data"
    }
   ],
   "source": [
    "df.plot(x=\"Date\", y=\"Close\")"
   ]
  },
  {
   "cell_type": "code",
   "execution_count": 4,
   "metadata": {
    "pycharm": {
     "is_executing": false
    }
   },
   "outputs": [
    {
     "data": {
      "text/html": [
       "<div>\n",
       "<style scoped>\n",
       "    .dataframe tbody tr th:only-of-type {\n",
       "        vertical-align: middle;\n",
       "    }\n",
       "\n",
       "    .dataframe tbody tr th {\n",
       "        vertical-align: top;\n",
       "    }\n",
       "\n",
       "    .dataframe thead th {\n",
       "        text-align: right;\n",
       "    }\n",
       "</style>\n",
       "<table border=\"1\" class=\"dataframe\">\n",
       "  <thead>\n",
       "    <tr style=\"text-align: right;\">\n",
       "      <th></th>\n",
       "      <th>index</th>\n",
       "      <th>Date</th>\n",
       "      <th>Open</th>\n",
       "      <th>High</th>\n",
       "      <th>Low</th>\n",
       "      <th>Close</th>\n",
       "      <th>Adj Close</th>\n",
       "      <th>Volume</th>\n",
       "    </tr>\n",
       "  </thead>\n",
       "  <tbody>\n",
       "    <tr>\n",
       "      <th>0</th>\n",
       "      <td>4024</td>\n",
       "      <td>2015-12-31</td>\n",
       "      <td>139.070007</td>\n",
       "      <td>139.100006</td>\n",
       "      <td>137.570007</td>\n",
       "      <td>137.619995</td>\n",
       "      <td>114.207855</td>\n",
       "      <td>3462100</td>\n",
       "    </tr>\n",
       "    <tr>\n",
       "      <th>1</th>\n",
       "      <td>4025</td>\n",
       "      <td>2016-01-04</td>\n",
       "      <td>135.600006</td>\n",
       "      <td>135.970001</td>\n",
       "      <td>134.240005</td>\n",
       "      <td>135.949997</td>\n",
       "      <td>112.821960</td>\n",
       "      <td>5229400</td>\n",
       "    </tr>\n",
       "    <tr>\n",
       "      <th>2</th>\n",
       "      <td>4026</td>\n",
       "      <td>2016-01-05</td>\n",
       "      <td>136.759995</td>\n",
       "      <td>136.889999</td>\n",
       "      <td>134.850006</td>\n",
       "      <td>135.850006</td>\n",
       "      <td>112.738976</td>\n",
       "      <td>3924800</td>\n",
       "    </tr>\n",
       "    <tr>\n",
       "      <th>3</th>\n",
       "      <td>4027</td>\n",
       "      <td>2016-01-06</td>\n",
       "      <td>134.380005</td>\n",
       "      <td>135.580002</td>\n",
       "      <td>133.619995</td>\n",
       "      <td>135.169998</td>\n",
       "      <td>112.174667</td>\n",
       "      <td>4310900</td>\n",
       "    </tr>\n",
       "    <tr>\n",
       "      <th>4</th>\n",
       "      <td>4028</td>\n",
       "      <td>2016-01-07</td>\n",
       "      <td>133.699997</td>\n",
       "      <td>135.020004</td>\n",
       "      <td>132.429993</td>\n",
       "      <td>132.860001</td>\n",
       "      <td>110.257637</td>\n",
       "      <td>7025800</td>\n",
       "    </tr>\n",
       "  </tbody>\n",
       "</table>\n",
       "</div>"
      ],
      "text/plain": [
       "   index        Date        Open        High         Low       Close  \\\n",
       "0   4024  2015-12-31  139.070007  139.100006  137.570007  137.619995   \n",
       "1   4025  2016-01-04  135.600006  135.970001  134.240005  135.949997   \n",
       "2   4026  2016-01-05  136.759995  136.889999  134.850006  135.850006   \n",
       "3   4027  2016-01-06  134.380005  135.580002  133.619995  135.169998   \n",
       "4   4028  2016-01-07  133.699997  135.020004  132.429993  132.860001   \n",
       "\n",
       "    Adj Close   Volume  \n",
       "0  114.207855  3462100  \n",
       "1  112.821960  5229400  \n",
       "2  112.738976  3924800  \n",
       "3  112.174667  4310900  \n",
       "4  110.257637  7025800  "
      ]
     },
     "execution_count": 4,
     "metadata": {},
     "output_type": "execute_result"
    }
   ],
   "source": [
    "df.head()"
   ]
  },
  {
   "cell_type": "markdown",
   "metadata": {},
   "source": [
    "## Let the DQN trade"
   ]
  },
  {
   "cell_type": "code",
   "execution_count": 5,
   "metadata": {
    "pycharm": {
     "is_executing": false
    }
   },
   "outputs": [],
   "source": [
    "from networks.DQN import MyModel\n",
    "from env.StockTradingEnv import StockTradingEnv\n",
    "import tensorflow as tf\n",
    "\n",
    "from tensorflow.keras.models import load_model"
   ]
  },
  {
   "cell_type": "markdown",
   "metadata": {},
   "source": [
    "### Parameters of the DQN model (taken from main_with_dqn)"
   ]
  },
  {
   "cell_type": "code",
   "execution_count": 6,
   "metadata": {
    "pycharm": {
     "is_executing": false
    }
   },
   "outputs": [],
   "source": [
    "env = StockTradingEnv(df)\n",
    "\n",
    "num_actions = 2\n",
    "hidden_units = [64,128,256,256,128,64]\n",
    "input_shape = env.observation_space.sample().shape\n",
    "in_log = True ### for the environment to use logs and no divisions by max value\n",
    "\n",
    "path_weights_a = \"save_models/DQN_200\" # last number is number of episodes trained\n",
    "path_weights_b = \"save_models/DQN_400\"\n",
    "path_weights_c = \"save_models/DQN_1000\""
   ]
  },
  {
   "cell_type": "markdown",
   "metadata": {},
   "source": [
    "### Build the Agent"
   ]
  },
  {
   "cell_type": "code",
   "execution_count": 7,
   "metadata": {
    "pycharm": {
     "is_executing": false
    }
   },
   "outputs": [],
   "source": [
    "class TradingAgent():\n",
    "    \"\"\"A class to simplify the trading decisions\"\"\"\n",
    "    def __init__(self, model, path_weights, name):\n",
    "        self.model = model\n",
    "        self.model.load_weights(path_weights)\n",
    "        self.name = name # name of the agent\n",
    "    \n",
    "    def get_action(self, state): #meant for only a single state for input\n",
    "        prediction = self.model.predict(state)\n",
    "        return np.argmax(prediction[0])"
   ]
  },
  {
   "cell_type": "code",
   "execution_count": 8,
   "metadata": {
    "pycharm": {
     "is_executing": false
    }
   },
   "outputs": [],
   "source": [
    "trade_model_a = MyModel(input_shape, hidden_units, num_actions)\n",
    "trade_model_b = MyModel(input_shape, hidden_units, num_actions)\n",
    "trade_model_c = MyModel(input_shape, hidden_units, num_actions)\n",
    "\n",
    "# trade_model.load_weights(path_weights)\n",
    "Agent_a = TradingAgent(trade_model_a, path_weights_a, \"agent_a\")\n",
    "Agent_b = TradingAgent(trade_model_b, path_weights_b, \"agent_b\")\n",
    "Agent_c = TradingAgent(trade_model_c, path_weights_c, \"agent_c\")\n",
    "\n",
    "agents = [Agent_a, Agent_b, Agent_c]"
   ]
  },
  {
   "cell_type": "markdown",
   "metadata": {},
   "source": [
    "### Run over the data frame"
   ]
  },
  {
   "cell_type": "code",
   "execution_count": 9,
   "metadata": {
    "pycharm": {
     "is_executing": false
    }
   },
   "outputs": [
    {
     "name": "stdout",
     "output_type": "stream",
     "text": [
      " agent_a, day 999 out of 999\n",
      "last net_worth: 11800.794453505789\n",
      " agent_b, day 999 out of 999\n",
      "last net_worth: 11911.549760020933\n",
      " agent_c, day 999 out of 999\n",
      "last net_worth: 11886.811428110721\n"
     ]
    }
   ],
   "source": [
    "df_results = pd.DataFrame(columns=['Date','Index', 'agent_a', 'agent_b', 'agent_c'], index=df.index)\n",
    "df_results['Date'] = df['Date']\n",
    "\n",
    "# Compute the Index value\n",
    "for i in range(len(df.loc[:, 'Open'].values) - 6):\n",
    "    df_results.loc[i+5, \"Index\"] = df.loc[i+5, \"Close\"] * env.initial_account_balance / df.loc[5, \"Close\"] # i + 5 because of the format of the data\n",
    "    \n",
    "# Compute the Agents' net_worth\n",
    "for Agent in agents:\n",
    "    env = StockTradingEnv(df, in_log=in_log)\n",
    "    input_shape = env.observation_space.sample().shape\n",
    "    observation = env.reset_to_day_one().reshape(1,input_shape[0],input_shape[1]).astype('float32') # necessary to reshape each observation\n",
    "    \n",
    "    for i in range(len(df.loc[:, 'Open'].values) - 6):\n",
    "        action = Agent.get_action(observation.reshape(1,input_shape[0],input_shape[1]).astype('float32'))\n",
    "        action = convert_action(action, binary_action=True)\n",
    "        observation, reward, done, _ = env.step(action)\n",
    "\n",
    "        df_results.loc[i+5, Agent.name] = env.net_worth\n",
    "\n",
    "        print(\"\\r {}, day {} out of {}\".format(Agent.name, i, len(df.loc[:, 'Open'].values) - 7), end = \"\")\n",
    "    print(\"\")\n",
    "    \n",
    "    print(\"last net_worth: {}\".format(env.net_worth))"
   ]
  },
  {
   "cell_type": "markdown",
   "metadata": {},
   "source": [
    "### Visualize the results"
   ]
  },
  {
   "cell_type": "markdown",
   "metadata": {},
   "source": [
    "#### On training set"
   ]
  },
  {
   "cell_type": "markdown",
   "metadata": {},
   "source": [
    "#### On validation set"
   ]
  },
  {
   "cell_type": "code",
   "execution_count": 10,
   "metadata": {
    "pycharm": {
     "is_executing": false
    }
   },
   "outputs": [
    {
     "data": {
      "image/png": "[encoded data removed]",
      "text/plain": [
       "<Figure size 432x288 with 1 Axes>"
      ]
     },
     "metadata": {
      "needs_background": "light"
     },
     "output_type": "display_data"
    }
   ],
   "source": [
    "fig = df_results.plot(x=\"Date\", y=[\"Index\", \"agent_a\", \"agent_b\", \"agent_c\"]).get_figure()\n",
    "fig.savefig(\"imgs/DQN_mlp.png\")"
   ]
  }
 ],
 "metadata": {
  "kernelspec": {
   "display_name": "Python 3",
   "language": "python",
   "name": "python3"
  },
  "language_info": {
   "codemirror_mode": {
    "name": "ipython",
    "version": 3
   },
   "file_extension": ".py",
   "mimetype": "text/x-python",
   "name": "python",
   "nbconvert_exporter": "python",
   "pygments_lexer": "ipython3",
   "version": "3.7.6"
  },
  "pycharm": {
   "stem_cell": {
    "cell_type": "raw",
    "metadata": {
     "collapsed": false
    },
    "source": []
   }
  }
 },
 "nbformat": 4,
 "nbformat_minor": 2
}
