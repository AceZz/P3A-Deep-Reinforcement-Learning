{
 "cells": [
  {
   "cell_type": "code",
   "execution_count": 1,
   "metadata": {},
   "outputs": [],
   "source": [
    "import gym\n",
    "import json\n",
    "import datetime as dt\n",
    "import numpy as np\n",
    "import pandas as pd\n",
    "import tensorflow as tf\n",
    "import os\n",
    "from gym import wrappers\n",
    "\n",
    "import matplotlib.pyplot as plt\n",
    "import time"
   ]
  },
  {
   "cell_type": "code",
   "execution_count": 2,
   "metadata": {},
   "outputs": [],
   "source": [
    "from env.StockTradingEnv import StockTradingEnv\n",
    "from networks.DQNac import MyModel\n",
    "from networks.DQNac import StockActor, StockCritic, DQN"
   ]
  },
  {
   "cell_type": "code",
   "execution_count": 3,
   "metadata": {},
   "outputs": [],
   "source": [
    "df = pd.read_csv('./data/IBM_train.csv')\n",
    "df = df.sort_values('Date')\n",
    "\n",
    "# The algorithms require a vectorized environment to run\n",
    "env = StockTradingEnv(df)\n",
    "\n"
   ]
  },
  {
   "cell_type": "markdown",
   "metadata": {},
   "source": [
    "mod = MyModel(32, (1,4), (1,1))\n",
    "\n",
    "print(obs)\n",
    "z = mod.predict(obs)\n",
    "print(z)\n"
   ]
  },
  {
   "cell_type": "markdown",
   "metadata": {},
   "source": [
    "act = StockActor()\n",
    "act_target = StockActor()\n",
    "output_action = act(obs)\n",
    "output_action_tar = act_target(obs)\n",
    "print(\"output_action\")\n",
    "print(output_action)\n",
    "print(\" \")\n",
    "print(\"output_action_tar\")\n",
    "print(output_action_tar)\n",
    "print(\" \")\n",
    "output_action = act(obs)\n",
    "output_action_tar = act_target(obs)\n",
    "print(\"output_action2\")\n",
    "print(tf.squeeze(output_action))\n",
    "print(\" \")\n",
    "print(\"output_action_tar2\")\n",
    "print(output_action_tar)\n",
    "print(\" \")\n",
    "\n",
    "#act.model.summary()\n",
    "#print(act.model.layers[3].get_weights())\n",
    "#act.model.layers[3].set_weights([np.array([[-0.3]], dtype=np.float32), np.array([0.1], dtype=np.float32)])\n",
    "#print(act.model.layers[3].get_weights())"
   ]
  },
  {
   "cell_type": "markdown",
   "metadata": {},
   "source": [
    "crit = StockCritic()\n",
    "act = StockActor()\n",
    "\n",
    "output_action = act(obs)\n",
    "print(output_action)\n",
    "output_action = tf.squeeze(output_action)\n",
    "output_crit = crit([obs,output_action])\n",
    "print(output_crit)"
   ]
  },
  {
   "cell_type": "markdown",
   "metadata": {},
   "source": [
    "    \n",
    "gamma = 0.99\n",
    "max_experiences = 1000\n",
    "min_experiences = 365\n",
    "batch_size = 32\n",
    "lr = 1e-2\n",
    "D = DQN( gamma, max_experiences, min_experiences, batch_size, lr)\n",
    "observations = env.reset()\n",
    "observations = np.expand_dims(observations,axis=0)\n",
    "observations = np.expand_dims(observations,axis=0)\n",
    "D.act(observations)"
   ]
  },
  {
   "cell_type": "markdown",
   "metadata": {},
   "source": [
    "a = act.model.trainable_variables\n",
    "print(a)\n",
    "print(\" \")\n",
    "print(\" \")\n",
    "print(\" hjkbedfhugqdfhiqdfbhiqdf\")\n",
    "print(\" \")\n",
    "print(\" \")\n",
    "b = act.trainable_variables\n",
    "print(b)"
   ]
  },
  {
   "cell_type": "markdown",
   "metadata": {},
   "source": [
    "\n",
    "#model = MyModel(32, (1,4), (1,1))\n",
    "#output=tf.squeeze(model(obs))\n",
    "\n",
    "crit = StockCritic()\n",
    "crit_tar = StockCritic()\n",
    "crit.action = tf.squeeze(output_action)\n",
    "crit_tar.action = tf.squeeze(output_action)\n",
    "output = crit(obs)\n",
    "output_tar = crit_tar(obs)\n",
    "print(\"output\")\n",
    "print(output)\n",
    "print(\" \")\n",
    "print(\"output_tar\")\n",
    "print(output_tar)\n",
    "print(\" \")\n",
    "crit.action = tf.squeeze(output_action_tar)\n",
    "crit_tar.action = tf.squeeze(output_action)\n",
    "output = crit(obs)\n",
    "output_tar = crit_tar(obs)\n",
    "print(\"output2\")\n",
    "print(output)\n",
    "print(\" \")\n",
    "print(\"output_tar2\")\n",
    "print(output_tar)\n",
    "print(\" \")\n",
    "print(crit.trainable_variables)"
   ]
  },
  {
   "cell_type": "markdown",
   "metadata": {},
   "source": [
    "### Additional functions"
   ]
  },
  {
   "cell_type": "code",
   "execution_count": 4,
   "metadata": {},
   "outputs": [],
   "source": [
    "\n",
    "def fill_buffer(env, DQN,alpha,sigma):\n",
    "    \n",
    "    \n",
    "    rewards = 0\n",
    "    iter = 0\n",
    "    done = False\n",
    "    observations = env.reset()\n",
    "    observations = np.expand_dims(observations,axis=0)\n",
    "    observations = np.expand_dims(observations,axis=0)\n",
    "    steps = 0\n",
    "    it=0\n",
    "    while it<DQN.min_experiences:\n",
    "        \n",
    "        #print(it)\n",
    "        #observations = env.reset()\n",
    "\n",
    "        action = DQN.act(observations) # observations is actually a single \"state\" ie past 5 days\n",
    "        action = tf.squeeze(action)+alpha*np.random.normal(0,sigma)\n",
    "        #action = np.tanh(tf.squeeze(action)+np.random.normal(0,0.05)) #avoiding small action values in the begining ->[2 0] to frequently\n",
    "        #print(action)\n",
    "        action = DQN.convert_action(action)\n",
    "         \n",
    "        #print(action)\n",
    "        prev_observations = observations\n",
    "        observations, reward, done, _ = env.step(action)\n",
    "        #print(reward)\n",
    "        observations = np.expand_dims(observations,axis=0)\n",
    "        observations = np.expand_dims(observations,axis=0)\n",
    "        rewards += reward    # sum of gain_net_worth\n",
    "\n",
    "        if done :\n",
    "            print(\"DONE\")\n",
    "#             reward = -200\n",
    "            env.reset()\n",
    "        steps += 1\n",
    "        if steps >= 300: # Limiting the number of steps\n",
    "            print(\"STEPS\")\n",
    "            observations = env.reset()\n",
    "            observations = np.expand_dims(observations,axis=0)\n",
    "            observations = np.expand_dims(observations,axis=0)\n",
    "            steps = 0\n",
    "        \n",
    "        obs = tf.squeeze(observations)\n",
    "        obs = np.expand_dims(obs,axis=0)\n",
    "        prev_observations = tf.convert_to_tensor(prev_observations)\n",
    "        prev_observations = tf.squeeze(prev_observations, axis=0)\n",
    "        exp = {'s': prev_observations, 'a': action, 'r': reward, 's2': obs, 'done': done}\n",
    "        DQN.add_experience(exp)\n",
    "        \n",
    "        it += 1\n",
    "    return \" Done \"\n",
    "\n",
    "def DDPG(M,T,lrc,lra,alpha,sigma):                       # M number of episode T lenght of an episode\n",
    "    \n",
    "    gamma = 0.99\n",
    "    max_experiences = 1000\n",
    "    min_experiences = 365\n",
    "    batch_size = 32\n",
    "    lr_crit = lrc               #optimal 1e-1\n",
    "    lr_act = lra                #optimal 1e-3\n",
    " \n",
    "    D = DQN( gamma, max_experiences, min_experiences, batch_size, lr_crit,lr_act,alpha,sigma)\n",
    "    a = fill_buffer(env, D,alpha,sigma)\n",
    "    #print(a)\n",
    "    table_loss =[]\n",
    "    table_actions_explored = []\n",
    "    for i in range(M):\n",
    "        agent = D.train(env,T,table_loss,table_actions_explored,alpha,sigma)\n",
    "    print(\"done\")\n",
    "    return agent,D,table_loss,table_actions_explored\n",
    "\n"
   ]
  },
  {
   "cell_type": "code",
   "execution_count": 58,
   "metadata": {},
   "outputs": [],
   "source": [
    "#to do the graphs \n",
    "\n",
    "def smoothTriangle(data, degree):\n",
    "    triangle=np.concatenate((np.arange(degree + 1), np.arange(degree)[::-1])) # up then down\n",
    "    smoothed=[]\n",
    "\n",
    "    for i in range(degree, len(data) - degree * 2):\n",
    "        point=data[i:i + len(triangle)] * triangle\n",
    "        smoothed.append(np.sum(point)/np.sum(triangle))\n",
    "    # Handle boundaries\n",
    "    smoothed=[smoothed[0]]*int(degree + degree/2) + smoothed\n",
    "    while len(smoothed) < len(data):\n",
    "        smoothed.append(smoothed[-1])\n",
    "    return smoothed"
   ]
  },
  {
   "cell_type": "code",
   "execution_count": 20,
   "metadata": {
    "scrolled": true
   },
   "outputs": [
    {
     "name": "stdout",
     "output_type": "stream",
     "text": [
      "WARNING:tensorflow:Layer stock_actor_2 is casting an input tensor from dtype float64 to the layer's dtype of float32, which is new behavior in TensorFlow 2.  The layer has dtype float32 because it's dtype defaults to floatx.\n",
      "\n",
      "If you intended to run this layer in float32, you can safely ignore this warning. If in doubt, this warning is likely only an issue if you are porting a TensorFlow 1.X model to TensorFlow 2.\n",
      "\n",
      "To change all layers to have dtype float64 by default, call `tf.keras.backend.set_floatx('float64')`. To change just this layer, pass dtype='float64' to the layer constructor. If you are the author of this layer, you can disable autocasting by passing autocast=False to the base Layer constructor.\n",
      "\n",
      "STEPS\n",
      "WARNING:tensorflow:Layer stock_actor_3 is casting an input tensor from dtype float64 to the layer's dtype of float32, which is new behavior in TensorFlow 2.  The layer has dtype float32 because it's dtype defaults to floatx.\n",
      "\n",
      "If you intended to run this layer in float32, you can safely ignore this warning. If in doubt, this warning is likely only an issue if you are porting a TensorFlow 1.X model to TensorFlow 2.\n",
      "\n",
      "To change all layers to have dtype float64 by default, call `tf.keras.backend.set_floatx('float64')`. To change just this layer, pass dtype='float64' to the layer constructor. If you are the author of this layer, you can disable autocasting by passing autocast=False to the base Layer constructor.\n",
      "\n",
      "WARNING:tensorflow:Layer stock_critic_3 is casting an input tensor from dtype float64 to the layer's dtype of float32, which is new behavior in TensorFlow 2.  The layer has dtype float32 because it's dtype defaults to floatx.\n",
      "\n",
      "If you intended to run this layer in float32, you can safely ignore this warning. If in doubt, this warning is likely only an issue if you are porting a TensorFlow 1.X model to TensorFlow 2.\n",
      "\n",
      "To change all layers to have dtype float64 by default, call `tf.keras.backend.set_floatx('float64')`. To change just this layer, pass dtype='float64' to the layer constructor. If you are the author of this layer, you can disable autocasting by passing autocast=False to the base Layer constructor.\n",
      "\n",
      "WARNING:tensorflow:Layer stock_critic_2 is casting an input tensor from dtype float64 to the layer's dtype of float32, which is new behavior in TensorFlow 2.  The layer has dtype float32 because it's dtype defaults to floatx.\n",
      "\n",
      "If you intended to run this layer in float32, you can safely ignore this warning. If in doubt, this warning is likely only an issue if you are porting a TensorFlow 1.X model to TensorFlow 2.\n",
      "\n",
      "To change all layers to have dtype float64 by default, call `tf.keras.backend.set_floatx('float64')`. To change just this layer, pass dtype='float64' to the layer constructor. If you are the author of this layer, you can disable autocasting by passing autocast=False to the base Layer constructor.\n",
      "\n",
      "done\n"
     ]
    }
   ],
   "source": [
    "agent_a ,D,table_loss_a,table_actions_explored_a = DDPG(50,100,1e-1,1e-3,0,0.05)\n",
    "agent_b ,D,table_loss_b,table_actions_explored_b = DDPG(50,100,1e-1,1e-3,1,0.05)  #agent the act network\n",
    "agent_c ,D,table_loss_c,table_actions_explored_c = DDPG(50,100,1e-1,1e-3,1,0.1)\n",
    "agent_d ,D,table_loss_d,table_actions_explored_d = DDPG(50,100,1e-1,1e-3,1,0.5)\n",
    "agents = [agent_a,agent_b,agent_c,agent_d]\n",
    "\n"
   ]
  },
  {
   "cell_type": "code",
   "execution_count": 21,
   "metadata": {},
   "outputs": [
    {
     "data": {
      "image/png": "[encoded data removed]",
      "text/plain": [
       "<Figure size 432x288 with 1 Axes>"
      ]
     },
     "metadata": {
      "needs_background": "light"
     },
     "output_type": "display_data"
    }
   ],
   "source": [
    "t = np.arange(0, 5000, 1)\n",
    "table_loss  = np.asarray(table_loss)\n",
    "\n",
    "s = smoothTriangle(table_loss, 50)\n",
    "#plt.plot(t,table_loss,label=\"loss\")\n",
    "plt.plot(t,s,label=\"smooth loss\")\n",
    "plt.xlabel(\"t\")\n",
    "plt.ylabel(\"loss\")\n",
    "plt.legend()\n",
    "plt.show()"
   ]
  },
  {
   "cell_type": "code",
   "execution_count": 22,
   "metadata": {},
   "outputs": [
    {
     "data": {
      "image/png": "[encoded data removed]",
      "text/plain": [
       "<Figure size 432x288 with 1 Axes>"
      ]
     },
     "metadata": {
      "needs_background": "light"
     },
     "output_type": "display_data"
    }
   ],
   "source": [
    "plt.hist(table_actions_explored, bins = 100)\n",
    "plt.show()"
   ]
  },
  {
   "cell_type": "code",
   "execution_count": 45,
   "metadata": {},
   "outputs": [
    {
     "name": "stdout",
     "output_type": "stream",
     "text": [
      " stock_actor_2, day 999 out of 999\n",
      "last net_worth: 8489.506170689301\n"
     ]
    }
   ],
   "source": [
    "df = pd.read_csv('./data/IBM_val.csv')\n",
    "df = df.sort_values('Date')\n",
    "env = StockTradingEnv(df)\n",
    "\n",
    "df_results = pd.DataFrame(columns=['Date','Index','agent_a','agent_b','agent_c','agent_d','action','action_smooth'], index=df.index)\n",
    "df_results['Date'] = df['Date']\n",
    "\n",
    "table_actions = []\n",
    "# Compute the Index value\n",
    "for i in range(len(df.loc[:, 'Open'].values) - 6):\n",
    "    df_results.loc[i+5, \"Index\"] = df.loc[i+5, \"Close\"] * env.initial_account_balance / df.loc[5, \"Close\"] # i + 5 bec\n",
    "    \n",
    "\n",
    "\n",
    "# Compute the Agents' net_worth\n",
    "for Agent in agents:\n",
    "    \n",
    "    observation = env.reset_to_day_one().astype('float32')\n",
    "    observation = np.expand_dims(observation,axis=0)\n",
    "    observation = np.expand_dims(observation,axis=0)\n",
    "    observation = tf.convert_to_tensor(observation)  \n",
    "    \n",
    "    for i in range(len(df.loc[:, 'Open'].values) - 6):\n",
    "        action = Agent(observation)\n",
    "        action = tf.squeeze(action)\n",
    "        df_results.loc[i+5,'action'] = action.numpy()\n",
    "        table_actions.append(action.numpy())\n",
    "        #df_results.loc[i+5,'action_smooth'] = 0.8*df_results.loc[i+4,'action_smooth']+0.2*df_results.loc[i+5,'action']\n",
    "        #print(action)\n",
    "        action = D.convert_action(action)\n",
    "        \n",
    "        observation, reward, done, _ = env.step(action)\n",
    "        observation = np.expand_dims(observation,axis=0)\n",
    "        observation = np.expand_dims(observation,axis=0)\n",
    "        observation = tf.convert_to_tensor(observation) \n",
    "        df_results.loc[i+5, \"{}\".format(Agent)] = env.net_worth  #\"agent_a\"\n",
    "\n",
    "        print(\"\\r {}, day {} out of {}\".format(Agent.name, i, len(df.loc[:, 'Open'].values) - 7), end = \"\")\n",
    "    print(\"\")\n",
    "    \n",
    "    print(\"last net_worth: {}\".format(env.net_worth))\n",
    "    \n"
   ]
  },
  {
   "cell_type": "code",
   "execution_count": 46,
   "metadata": {},
   "outputs": [
    {
     "data": {
      "image/png": "[encoded data removed]",
      "text/plain": [
       "<Figure size 432x288 with 1 Axes>"
      ]
     },
     "metadata": {
      "needs_background": "light"
     },
     "output_type": "display_data"
    },
    {
     "data": {
      "image/png": "[encoded data removed]",
      "text/plain": [
       "<Figure size 432x288 with 1 Axes>"
      ]
     },
     "metadata": {
      "needs_background": "light"
     },
     "output_type": "display_data"
    }
   ],
   "source": [
    "fig = df_results.plot(x=\"Date\", y=[\"Index\",\"agent_a\"]).get_figure()\n",
    "\n",
    "df_results['action_smooth'] = smoothTriangle(df_results[\"action\"], 50)\n",
    "#df_results['action_smooth'] = df_results[\"action\"].rolling(window=100).mean()\n",
    "fig2 = df_results.plot(x=\"Date\", y=[\"action_smooth\"]).get_figure()\n"
   ]
  },
  {
   "cell_type": "code",
   "execution_count": 57,
   "metadata": {},
   "outputs": [
    {
     "data": {
      "image/png": "[encoded data removed]",
      "text/plain": [
       "<Figure size 432x288 with 1 Axes>"
      ]
     },
     "metadata": {
      "needs_background": "light"
     },
     "output_type": "display_data"
    }
   ],
   "source": [
    "plt.hist(table_actions, bins = 100)\n",
    "plt.show()"
   ]
  },
  {
   "cell_type": "code",
   "execution_count": 11,
   "metadata": {},
   "outputs": [],
   "source": [
    "#Agent_a.save_weights('save_models_ac/Second',save_format=\"tf\")\n",
    "#act = StockActor()\n",
    "#act.load_weights(\"save_models_ac/Second\")\n",
    "\n"
   ]
  },
  {
   "cell_type": "markdown",
   "metadata": {},
   "source": [
    "start = time.time()\n",
    "DDPG(10,100,lrc,lra)          \n",
    "end = time.time()                     # 10t par seconde\n",
    "print(end - start)"
   ]
  },
  {
   "cell_type": "markdown",
   "metadata": {},
   "source": [
    "######modify return of DDPG remove the other returns and put table_loss\n",
    "table_loss = []\n",
    "iteration = 2\n",
    "lr = [1e-1,1e-2,1e-3,1e-4]\n",
    "for i in range(iteration):\n",
    "    table_it = []\n",
    "    for lrc in lr:\n",
    "        table_lrc = []\n",
    "        for lra in lr: \n",
    "            table_lrc.append(DDPG(10,100,lrc,lra))\n",
    "            \n",
    "        table_it.append(table_lrc) \n",
    "    table_loss.append(table_it)\n",
    "    \n",
    "    print(\" \")\n",
    "    print(i)\n",
    "    print(\" \")\n"
   ]
  },
  {
   "cell_type": "markdown",
   "metadata": {},
   "source": [
    "t = np.arange(0, 1000, 1)\n",
    "table_loss  = np.asarray(table_loss)\n",
    "max_table = np.amax(table_loss)\n",
    "norm_table_loss = np.divide(table_loss,max_table)\n",
    "\n",
    "everage = np.sum(table_loss ,axis=0)/iteration\n",
    "\n",
    "\n",
    "for j in range(4):\n",
    "    for k in range(4):\n",
    "        \n",
    "        s_everage = smoothTriangle(everage[j][k], 10)\n",
    "        plt.plot(t,everage[j][k], label=\"everage loss\")\n",
    "        plt.plot(t,s_everage, label=\"smooth everage loss\")\n",
    "        plt.xlabel(\"t\")\n",
    "        plt.ylabel(\" loss\")\n",
    "        plt.legend()\n",
    "        plt.title(\"everage loss with lr_crit={} and lr_act={}\".format(lr[j], lr[k]))\n",
    "        plt.show()\n",
    "        \n",
    "        for i in range(iteration):\n",
    "            \n",
    "            s = smoothTriangle(table_loss[i][j][k], 10)\n",
    "            plt.plot(t,table_loss[i][j][k],label=\"loss\")\n",
    "            plt.plot(t,s,label=\"smooth loss\")\n",
    "            plt.xlabel(\"t\")\n",
    "            plt.ylabel(\"loss\")\n",
    "            plt.legend()\n",
    "            plt.title(\"loss with lr_crit={} and lr_act={}\".format(lr[j], lr[k]))\n",
    "            plt.show()\n",
    "\n"
   ]
  },
  {
   "cell_type": "markdown",
   "metadata": {},
   "source": [
    "t= np.arange(0, 1000, 1)\n",
    "\n",
    "\n",
    "def smooth_average (tble_loss):\n",
    "    smooth=[]\n",
    "    for i in range(1000):\n",
    "        \n",
    "        if i<=9:\n",
    "            s=0\n",
    "            for j in range(10):\n",
    "                index = i+j\n",
    "                s= s+ tble_loss[index]\n",
    "            smooth.append(s/10)\n",
    "        elif i>=989:\n",
    "            s=0\n",
    "            for j in range(10):\n",
    "                index = i-j\n",
    "                s= s+ tble_loss[index]\n",
    "            smooth.append(s/10)        \n",
    "        else:\n",
    "            s=0\n",
    "            for j in range(22):\n",
    "                index = i-10+j\n",
    "                s= s+ tble_loss[index]\n",
    "            smooth.append(s/21)\n",
    "    return smooth\n",
    "\n",
    "s = smooth_average (table_loss)\n",
    "s_2 = smooth_average (table_loss_2)\n",
    "s_3 = smooth_average (table_loss_3)\n",
    "s_4 = smooth_average (table_loss_4)\n",
    "s_5 = smooth_average (table_loss_5)\n",
    "\n",
    "\n",
    "everage = []\n",
    "for i in range(1000):\n",
    "    everage.append((table_loss[i]+table_loss_2[i]+table_loss_3[i]+table_loss_4[i]+table_loss_5[i])/5)\n",
    "    \n",
    "s_everage = smooth_average(everage)"
   ]
  },
  {
   "cell_type": "markdown",
   "metadata": {},
   "source": [
    "f = plt.figure(1)\n",
    "plt.plot(t,table_loss)\n",
    "plt.plot(t,s)\n",
    "f.show()\n",
    "g = plt.figure(2)\n",
    "plt.plot(t,table_loss_2)\n",
    "plt.plot(t,s_2)\n",
    "g.show()\n",
    "h = plt.figure(3)\n",
    "plt.plot(t,table_loss_3)\n",
    "plt.plot(t,s_3)\n",
    "h.show()\n",
    "i = plt.figure(4)\n",
    "plt.plot(t,table_loss_4)\n",
    "plt.plot(t,s_4)\n",
    "i.show()\n",
    "j = plt.figure(5)\n",
    "plt.plot(t,table_loss_5)\n",
    "plt.plot(t,s_5)\n",
    "j.show()\n",
    "k = plt.figure(6)\n",
    "plt.plot(t,everage)\n",
    "plt.plot(t,s_everage)\n",
    "k.show()\n"
   ]
  },
  {
   "cell_type": "markdown",
   "metadata": {},
   "source": [
    "print(table_loss_2[999])\n",
    "em = np.empty([1])\n",
    "print(em)\n",
    "em = np.append(em,[1.3])\n",
    "print(em)"
   ]
  }
 ],
 "metadata": {
  "kernelspec": {
   "display_name": "PyCharm (reinforcement-learning-master)",
   "language": "python",
   "name": "pycharm-7a748578"
  },
  "language_info": {
   "codemirror_mode": {
    "name": "ipython",
    "version": 3
   },
   "file_extension": ".py",
   "mimetype": "text/x-python",
   "name": "python",
   "nbconvert_exporter": "python",
   "pygments_lexer": "ipython3",
   "version": "3.7.5"
  }
 },
 "nbformat": 4,
 "nbformat_minor": 2
}
