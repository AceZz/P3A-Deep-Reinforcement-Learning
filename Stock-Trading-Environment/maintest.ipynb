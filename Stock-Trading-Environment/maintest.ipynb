{
 "cells": [
  {
   "cell_type": "code",
   "execution_count": 1,
   "metadata": {},
   "outputs": [],
   "source": [
    "import gym\n",
    "import json\n",
    "import datetime as dt\n",
    "import numpy as np\n",
    "import pandas as pd\n",
    "import tensorflow as tf\n",
    "import os\n",
    "from gym import wrappers\n",
    "\n",
    "\n"
   ]
  },
  {
   "cell_type": "code",
   "execution_count": 2,
   "metadata": {},
   "outputs": [],
   "source": [
    "from env.StockTradingEnv import StockTradingEnv\n",
    "from networks.DQNac import MyModel\n",
    "from networks.DQNac import StockActor, StockCritic, DQN"
   ]
  },
  {
   "cell_type": "code",
   "execution_count": 3,
   "metadata": {},
   "outputs": [
    {
     "name": "stdout",
     "output_type": "stream",
     "text": [
      "[[[[1.92080002e-02 1.92300004e-02 1.94660004e-02 1.95800004e-02\n",
      "    1.96979996e-02 1.98820008e-02]\n",
      "   [1.93759994e-02 1.94479996e-02 1.95140000e-02 1.96380004e-02\n",
      "    1.98740006e-02 2.01360000e-02]\n",
      "   [1.91220002e-02 1.92080002e-02 1.93600006e-02 1.93720002e-02\n",
      "    1.95960006e-02 1.98640000e-02]\n",
      "   [1.91940002e-02 1.94479996e-02 1.95000000e-02 1.95960006e-02\n",
      "    1.98320008e-02 2.01059998e-02]\n",
      "   [1.57370232e-02 1.48620457e-02 1.30925328e-02 2.27945857e-02\n",
      "    2.21524388e-02 3.23164277e-02]\n",
      "   [4.65661288e-06 4.65661288e-06 0.00000000e+00 0.00000000e+00\n",
      "    0.00000000e+00 0.00000000e+00]]]]\n"
     ]
    }
   ],
   "source": [
    "df = pd.read_csv('./data/AAPL.csv')\n",
    "df = df.sort_values('Date')\n",
    "\n",
    "# The algorithms require a vectorized environment to run\n",
    "env = StockTradingEnv(df)\n",
    "\n",
    "base_action = np.array([0,0.5])\n",
    "\n",
    "obs = env.reset()\n",
    "for i in range(5):\n",
    "    action, _states = (base_action, None)\n",
    "    obs, rewards, done, info = env.step(action)\n",
    "#print(obs)\n",
    "obs = env.reset()\n",
    "obs=np.expand_dims(obs,axis=0)\n",
    "obs=np.expand_dims(obs,axis=0)\n",
    "print(obs)"
   ]
  },
  {
   "cell_type": "markdown",
   "metadata": {},
   "source": [
    "mod = MyModel(32, (1,4), (1,1))\n",
    "\n",
    "print(obs)\n",
    "z = mod.predict(obs)\n",
    "print(z)\n"
   ]
  },
  {
   "cell_type": "markdown",
   "metadata": {},
   "source": [
    "act = StockActor()\n",
    "act_target = StockActor()\n",
    "output_action = act(obs)\n",
    "output_action_tar = act_target(obs)\n",
    "print(\"output_action\")\n",
    "print(output_action)\n",
    "print(\" \")\n",
    "print(\"output_action_tar\")\n",
    "print(output_action_tar)\n",
    "print(\" \")\n",
    "output_action = act(obs)\n",
    "output_action_tar = act_target(obs)\n",
    "print(\"output_action2\")\n",
    "print(tf.squeeze(output_action))\n",
    "print(\" \")\n",
    "print(\"output_action_tar2\")\n",
    "print(output_action_tar)\n",
    "print(\" \")\n",
    "\n",
    "#act.model.summary()\n",
    "#print(act.model.layers[3].get_weights())\n",
    "#act.model.layers[3].set_weights([np.array([[-0.3]], dtype=np.float32), np.array([0.1], dtype=np.float32)])\n",
    "#print(act.model.layers[3].get_weights())"
   ]
  },
  {
   "cell_type": "markdown",
   "metadata": {},
   "source": [
    "crit = StockCritic()\n",
    "act = StockActor()\n",
    "\n",
    "output_action = act(obs)\n",
    "print(output_action)\n",
    "output_action = tf.squeeze(output_action)\n",
    "output_crit = crit([obs,output_action])\n",
    "print(output_crit)"
   ]
  },
  {
   "cell_type": "markdown",
   "metadata": {},
   "source": [
    "    \n",
    "gamma = 0.99\n",
    "max_experiences = 1000\n",
    "min_experiences = 365\n",
    "batch_size = 32\n",
    "lr = 1e-2\n",
    "D = DQN( gamma, max_experiences, min_experiences, batch_size, lr)\n",
    "observations = env.reset()\n",
    "observations = np.expand_dims(observations,axis=0)\n",
    "observations = np.expand_dims(observations,axis=0)\n",
    "D.act(observations)"
   ]
  },
  {
   "cell_type": "markdown",
   "metadata": {},
   "source": [
    "a = act.model.trainable_variables\n",
    "print(a)\n",
    "print(\" \")\n",
    "print(\" \")\n",
    "print(\" hjkbedfhugqdfhiqdfbhiqdf\")\n",
    "print(\" \")\n",
    "print(\" \")\n",
    "b = act.trainable_variables\n",
    "print(b)"
   ]
  },
  {
   "cell_type": "markdown",
   "metadata": {},
   "source": [
    "\n",
    "#model = MyModel(32, (1,4), (1,1))\n",
    "#output=tf.squeeze(model(obs))\n",
    "\n",
    "crit = StockCritic()\n",
    "crit_tar = StockCritic()\n",
    "crit.action = tf.squeeze(output_action)\n",
    "crit_tar.action = tf.squeeze(output_action)\n",
    "output = crit(obs)\n",
    "output_tar = crit_tar(obs)\n",
    "print(\"output\")\n",
    "print(output)\n",
    "print(\" \")\n",
    "print(\"output_tar\")\n",
    "print(output_tar)\n",
    "print(\" \")\n",
    "crit.action = tf.squeeze(output_action_tar)\n",
    "crit_tar.action = tf.squeeze(output_action)\n",
    "output = crit(obs)\n",
    "output_tar = crit_tar(obs)\n",
    "print(\"output2\")\n",
    "print(output)\n",
    "print(\" \")\n",
    "print(\"output_tar2\")\n",
    "print(output_tar)\n",
    "print(\" \")\n",
    "print(crit.trainable_variables)"
   ]
  },
  {
   "cell_type": "markdown",
   "metadata": {},
   "source": [
    "### Additional functions"
   ]
  },
  {
   "cell_type": "code",
   "execution_count": 4,
   "metadata": {},
   "outputs": [],
   "source": [
    "\n",
    "def fill_buffer(env, DQN):\n",
    "    \n",
    "    rewards = 0\n",
    "    iter = 0\n",
    "    done = False\n",
    "    observations = env.reset()\n",
    "    observations = np.expand_dims(observations,axis=0)\n",
    "    observations = np.expand_dims(observations,axis=0)\n",
    "    steps = 0\n",
    "    it=0\n",
    "    while it<DQN.min_experiences:\n",
    "        \n",
    "        #print(it)\n",
    "        #observations = env.reset()\n",
    "\n",
    "        action = DQN.act(observations) # observations is actually a single \"state\" ie past 5 days\n",
    "        action = np.tanh(tf.squeeze(action)+np.random.normal(0,0.05)) #avoiding small action values in the begining ->[2 0] to frequently\n",
    "        #print(action)\n",
    "        action = DQN.convert_action(action)\n",
    "         \n",
    "        #print(action)\n",
    "        prev_observations = observations\n",
    "        observations, reward, done, _ = env.step(action)\n",
    "        #print(reward)\n",
    "        observations = np.expand_dims(observations,axis=0)\n",
    "        observations = np.expand_dims(observations,axis=0)\n",
    "        rewards += reward    # sum of gain_net_worth\n",
    "\n",
    "        if done :\n",
    "            print(\"DONE\")\n",
    "#             reward = -200\n",
    "            env.reset()\n",
    "        steps += 1\n",
    "        if steps >= 300: # Limiting the number of steps\n",
    "            print(\"STEPS\")\n",
    "            observations = env.reset()\n",
    "            observations = np.expand_dims(observations,axis=0)\n",
    "            observations = np.expand_dims(observations,axis=0)\n",
    "            steps = 0\n",
    "        \n",
    "        obs = tf.squeeze(observations)\n",
    "        obs = np.expand_dims(obs,axis=0)\n",
    "        exp = {'s': prev_observations, 'a': action, 'r': reward, 's2': obs, 'done': done}\n",
    "        DQN.add_experience(exp)\n",
    "        \n",
    "        it += 1\n",
    "    return \" Done \"\n",
    "\n",
    "def DDPG():\n",
    "    \n",
    "    gamma = 0.99\n",
    "    max_experiences = 1000\n",
    "    min_experiences = 365\n",
    "    batch_size = 32\n",
    "    lr = 1e-2\n",
    "    \n",
    "    M = 1\n",
    "    T = 1\n",
    " \n",
    "    D = DQN( gamma, max_experiences, min_experiences, batch_size, lr)\n",
    "    a = fill_buffer(env, D)\n",
    "    #print(a)\n",
    "    \n",
    "    for i in range(M):\n",
    "        D.train(env,T)\n",
    "            "
   ]
  },
  {
   "cell_type": "code",
   "execution_count": 5,
   "metadata": {},
   "outputs": [
    {
     "name": "stdout",
     "output_type": "stream",
     "text": [
      "WARNING:tensorflow:Layer stock_actor is casting an input tensor from dtype float64 to the layer's dtype of float32, which is new behavior in TensorFlow 2.  The layer has dtype float32 because it's dtype defaults to floatx.\n",
      "\n",
      "If you intended to run this layer in float32, you can safely ignore this warning. If in doubt, this warning is likely only an issue if you are porting a TensorFlow 1.X model to TensorFlow 2.\n",
      "\n",
      "To change all layers to have dtype float64 by default, call `tf.keras.backend.set_floatx('float64')`. To change just this layer, pass dtype='float64' to the layer constructor. If you are the author of this layer, you can disable autocasting by passing autocast=False to the base Layer constructor.\n",
      "\n",
      "STEPS\n",
      "WARNING:tensorflow:Layer stock_actor_1 is casting an input tensor from dtype float64 to the layer's dtype of float32, which is new behavior in TensorFlow 2.  The layer has dtype float32 because it's dtype defaults to floatx.\n",
      "\n",
      "If you intended to run this layer in float32, you can safely ignore this warning. If in doubt, this warning is likely only an issue if you are porting a TensorFlow 1.X model to TensorFlow 2.\n",
      "\n",
      "To change all layers to have dtype float64 by default, call `tf.keras.backend.set_floatx('float64')`. To change just this layer, pass dtype='float64' to the layer constructor. If you are the author of this layer, you can disable autocasting by passing autocast=False to the base Layer constructor.\n",
      "\n",
      "WARNING:tensorflow:Layer stock_critic_1 is casting an input tensor from dtype float64 to the layer's dtype of float32, which is new behavior in TensorFlow 2.  The layer has dtype float32 because it's dtype defaults to floatx.\n",
      "\n",
      "If you intended to run this layer in float32, you can safely ignore this warning. If in doubt, this warning is likely only an issue if you are porting a TensorFlow 1.X model to TensorFlow 2.\n",
      "\n",
      "To change all layers to have dtype float64 by default, call `tf.keras.backend.set_floatx('float64')`. To change just this layer, pass dtype='float64' to the layer constructor. If you are the author of this layer, you can disable autocasting by passing autocast=False to the base Layer constructor.\n",
      "\n",
      "Y\n",
      "tf.Tensor(\n",
      "[-8.45063400e+01 -2.04103985e+01 -1.51249723e+01 -1.08721581e+01\n",
      "  3.07042007e+01  1.06892805e+01  7.65188551e+00 -3.33965263e+01\n",
      " -2.03379040e+01 -1.83037162e+00  3.07042007e+01  9.11896467e-01\n",
      " -9.72786045e+00  5.37136307e+01  1.24527493e+01  2.64578972e+01\n",
      "  2.05083141e+01  9.11896467e-01 -4.09071112e+00 -1.98917043e+00\n",
      "  7.33449478e+01  9.37183294e-03  2.49833145e+01 -5.49593210e+00\n",
      "  3.19338894e+01  7.35775833e+01 -1.35571804e+01 -5.18567860e-01\n",
      " -7.97447634e+00 -2.16897545e+01 -2.53857136e+01 -4.87186470e+01], shape=(32,), dtype=float32)\n",
      "WARNING:tensorflow:Layer stock_critic is casting an input tensor from dtype float64 to the layer's dtype of float32, which is new behavior in TensorFlow 2.  The layer has dtype float32 because it's dtype defaults to floatx.\n",
      "\n",
      "If you intended to run this layer in float32, you can safely ignore this warning. If in doubt, this warning is likely only an issue if you are porting a TensorFlow 1.X model to TensorFlow 2.\n",
      "\n",
      "To change all layers to have dtype float64 by default, call `tf.keras.backend.set_floatx('float64')`. To change just this layer, pass dtype='float64' to the layer constructor. If you are the author of this layer, you can disable autocasting by passing autocast=False to the base Layer constructor.\n",
      "\n",
      "Qval\n",
      "tf.Tensor(\n",
      "[0.00611088 0.00758073 0.01125858 0.01320692 0.01146106 0.02027238\n",
      " 0.01723703 0.00393616 0.01478456 0.00706975 0.01146106 0.01043238\n",
      " 0.00779453 0.01192286 0.01173962 0.0062901  0.01177602 0.01043238\n",
      " 0.00453169 0.00819024 0.0053351  0.00625027 0.01147821 0.01162408\n",
      " 0.0042786  0.01359744 0.00488055 0.0072295  0.00554113 0.00760465\n",
      " 0.0058053  0.01068622], shape=(32,), dtype=float32)\n",
      "loss\n",
      "tf.Tensor(31973.588, shape=(), dtype=float32)\n",
      "Done optimize\n"
     ]
    }
   ],
   "source": [
    "DDPG()"
   ]
  },
  {
   "cell_type": "code",
   "execution_count": null,
   "metadata": {},
   "outputs": [],
   "source": []
  }
 ],
 "metadata": {
  "kernelspec": {
   "display_name": "PyCharm (reinforcement-learning-master)",
   "language": "python",
   "name": "pycharm-7a748578"
  },
  "language_info": {
   "codemirror_mode": {
    "name": "ipython",
    "version": 3
   },
   "file_extension": ".py",
   "mimetype": "text/x-python",
   "name": "python",
   "nbconvert_exporter": "python",
   "pygments_lexer": "ipython3",
   "version": "3.7.5"
  }
 },
 "nbformat": 4,
 "nbformat_minor": 2
}
