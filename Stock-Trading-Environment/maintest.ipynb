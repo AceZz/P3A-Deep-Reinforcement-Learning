{
 "cells": [
  {
   "cell_type": "code",
   "execution_count": 1,
   "metadata": {},
   "outputs": [],
   "source": [
    "import gym\n",
    "import json\n",
    "import datetime as dt\n",
    "import numpy as np\n",
    "import pandas as pd\n",
    "import tensorflow as tf\n",
    "import os\n",
    "from gym import wrappers\n",
    "\n",
    "\n"
   ]
  },
  {
   "cell_type": "code",
   "execution_count": 2,
   "metadata": {},
   "outputs": [],
   "source": [
    "from env.StockTradingEnv import StockTradingEnv\n",
    "from networks.DQNac import MyModel\n",
    "from networks.DQNac import StockActor, StockCritic"
   ]
  },
  {
   "cell_type": "code",
   "execution_count": 3,
   "metadata": {},
   "outputs": [],
   "source": [
    "df = pd.read_csv('./data/AAPL.csv')\n",
    "df = df.sort_values('Date')\n",
    "\n",
    "# The algorithms require a vectorized environment to run\n",
    "env = StockTradingEnv(df)\n",
    "\n",
    "base_action = np.array([0,0.5])\n",
    "\n",
    "obs = env.reset()\n",
    "for i in range(5):\n",
    "    action, _states = (base_action, None)\n",
    "    obs, rewards, done, info = env.step(action)\n",
    "    \n",
    "obs=np.expand_dims(obs,axis=0)\n",
    "obs=np.expand_dims(obs,axis=0)\n",
    "#print(obs)\n"
   ]
  },
  {
   "cell_type": "code",
   "execution_count": 4,
   "metadata": {},
   "outputs": [
    {
     "name": "stdout",
     "output_type": "stream",
     "text": [
      "output_action\n",
      "tf.Tensor([[0.0035115]], shape=(1, 1), dtype=float32)\n",
      " \n",
      "output_action_tar\n",
      "tf.Tensor([[-0.00637227]], shape=(1, 1), dtype=float32)\n",
      " \n",
      "output_action2\n",
      "tf.Tensor([[0.0035115]], shape=(1, 1), dtype=float32)\n",
      " \n",
      "output_action_tar2\n",
      "tf.Tensor([[-0.00637227]], shape=(1, 1), dtype=float32)\n",
      " \n"
     ]
    }
   ],
   "source": [
    "act = StockActor()\n",
    "act_target = StockActor()\n",
    "output_action = act.predict(obs)\n",
    "output_action_tar = act_target.predict(obs)\n",
    "print(\"output_action\")\n",
    "print(output_action)\n",
    "print(\" \")\n",
    "print(\"output_action_tar\")\n",
    "print(output_action_tar)\n",
    "print(\" \")\n",
    "output_action = act.predict(obs)\n",
    "output_action_tar = act_target.predict(obs)\n",
    "print(\"output_action2\")\n",
    "print(output_action)\n",
    "print(\" \")\n",
    "print(\"output_action_tar2\")\n",
    "print(output_action_tar)\n",
    "print(\" \")"
   ]
  },
  {
   "cell_type": "code",
   "execution_count": 6,
   "metadata": {},
   "outputs": [
    {
     "name": "stdout",
     "output_type": "stream",
     "text": [
      "output\n",
      "tf.Tensor([[2.2185523e-05]], shape=(1, 1), dtype=float32)\n",
      " \n",
      "output_tar\n",
      "tf.Tensor([[0.00010049]], shape=(1, 1), dtype=float32)\n",
      " \n",
      "output2\n",
      "tf.Tensor([[2.2185523e-05]], shape=(1, 1), dtype=float32)\n",
      " \n",
      "output_tar2\n",
      "tf.Tensor([[0.00010049]], shape=(1, 1), dtype=float32)\n",
      " \n"
     ]
    }
   ],
   "source": [
    "\n",
    "#model = MyModel(32, (1,4), (1,1))\n",
    "#output=tf.squeeze(model(obs))\n",
    "\n",
    "crit = StockCritic()\n",
    "crit_tar = StockCritic()\n",
    "\n",
    "output = crit.predict(obs,output_action)\n",
    "output_tar = crit_tar.predict(obs,output_action)\n",
    "print(\"output\")\n",
    "print(output)\n",
    "print(\" \")\n",
    "print(\"output_tar\")\n",
    "print(output_tar)\n",
    "print(\" \")\n",
    "output = crit.predict(obs,output_action)\n",
    "output_tar = crit_tar.predict(obs,output_action)\n",
    "print(\"output2\")\n",
    "print(output)\n",
    "print(\" \")\n",
    "print(\"output_tar2\")\n",
    "print(output_tar)\n",
    "print(\" \")\n"
   ]
  },
  {
   "cell_type": "code",
   "execution_count": null,
   "metadata": {},
   "outputs": [],
   "source": []
  }
 ],
 "metadata": {
  "kernelspec": {
   "display_name": "PyCharm (reinforcement-learning-master)",
   "language": "python",
   "name": "pycharm-7a748578"
  },
  "language_info": {
   "codemirror_mode": {
    "name": "ipython",
    "version": 3
   },
   "file_extension": ".py",
   "mimetype": "text/x-python",
   "name": "python",
   "nbconvert_exporter": "python",
   "pygments_lexer": "ipython3",
   "version": "3.7.5"
  }
 },
 "nbformat": 4,
 "nbformat_minor": 2
}
