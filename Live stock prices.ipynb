{
 "cells": [
  {
   "cell_type": "markdown",
   "metadata": {},
   "source": [
    "# Getting live stock prices"
   ]
  },
  {
   "cell_type": "code",
   "execution_count": 44,
   "metadata": {},
   "outputs": [],
   "source": [
    "from yahoofinancials import YahooFinancials\n",
    "import time\n",
    "import keyboard\n",
    "import pandas as pd\n",
    "import matplotlib.pyplot as plt\n",
    "%matplotlib inline"
   ]
  },
  {
   "cell_type": "code",
   "execution_count": 45,
   "metadata": {},
   "outputs": [],
   "source": [
    "ticker = 'MC.PA'\n",
    "\n",
    "# while True:\n",
    "#     try:  # used try so that if user pressed other than the given key error will not be shown\n",
    "#         if keyboard.is_pressed('q'):  # if key 'q' is pressed \n",
    "#             print('You closed the preview!')\n",
    "#             break  # finishing the loop\n",
    "        \n",
    "#     except:\n",
    "#         break\n",
    "            \n",
    "#     lvmh = YahooFinancials(ticker)\n",
    "#     lvmh_price = lvmh.get_current_price()\n",
    "#     print(\"\\r LVMH stock price: {}\".format(lvmh_price), end=\"\")"
   ]
  },
  {
   "cell_type": "markdown",
   "metadata": {},
   "source": [
    "## Track history of stock prices"
   ]
  },
  {
   "cell_type": "code",
   "execution_count": 46,
   "metadata": {},
   "outputs": [
    {
     "data": {
      "text/plain": [
       "dict_keys(['eventsData', 'firstTradeDate', 'currency', 'instrumentType', 'timeZone', 'prices'])"
      ]
     },
     "execution_count": 46,
     "metadata": {},
     "output_type": "execute_result"
    }
   ],
   "source": [
    "start_date = \"2010-01-01\"\n",
    "end_date = \"2019-12-31\"\n",
    "time_interval = \"monthly\"\n",
    "lvmh_historical = lvmh.get_historical_price_data(start_date, end_date, time_interval)['MC.PA']\n",
    "lvmh_historical.keys()"
   ]
  },
  {
   "cell_type": "code",
   "execution_count": 47,
   "metadata": {},
   "outputs": [
    {
     "data": {
      "text/plain": [
       "{'adjclose': 63.68911361694336,\n",
       " 'close': 79.06999969482422,\n",
       " 'date': 1262300400,\n",
       " 'formatted_date': '2009-12-31',\n",
       " 'high': 82.30000305175781,\n",
       " 'low': 76.5999984741211,\n",
       " 'open': 78.61000061035156,\n",
       " 'volume': 24245538}"
      ]
     },
     "execution_count": 47,
     "metadata": {},
     "output_type": "execute_result"
    }
   ],
   "source": [
    "lvmh_historical_prices = lvmh_historical['prices']\n",
    "lvmh_historical_prices[0]"
   ]
  },
  {
   "cell_type": "markdown",
   "metadata": {},
   "source": [
    "## Use pandas to plot"
   ]
  },
  {
   "cell_type": "code",
   "execution_count": 48,
   "metadata": {},
   "outputs": [
    {
     "data": {
      "text/html": [
       "<div>\n",
       "<style scoped>\n",
       "    .dataframe tbody tr th:only-of-type {\n",
       "        vertical-align: middle;\n",
       "    }\n",
       "\n",
       "    .dataframe tbody tr th {\n",
       "        vertical-align: top;\n",
       "    }\n",
       "\n",
       "    .dataframe thead th {\n",
       "        text-align: right;\n",
       "    }\n",
       "</style>\n",
       "<table border=\"1\" class=\"dataframe\">\n",
       "  <thead>\n",
       "    <tr style=\"text-align: right;\">\n",
       "      <th></th>\n",
       "      <th>date</th>\n",
       "      <th>high</th>\n",
       "      <th>low</th>\n",
       "      <th>open</th>\n",
       "      <th>close</th>\n",
       "      <th>volume</th>\n",
       "      <th>adjclose</th>\n",
       "      <th>formatted_date</th>\n",
       "    </tr>\n",
       "  </thead>\n",
       "  <tbody>\n",
       "    <tr>\n",
       "      <td>0</td>\n",
       "      <td>1262300400</td>\n",
       "      <td>82.300003</td>\n",
       "      <td>76.599998</td>\n",
       "      <td>78.610001</td>\n",
       "      <td>79.070000</td>\n",
       "      <td>24245538</td>\n",
       "      <td>63.689114</td>\n",
       "      <td>2009-12-31</td>\n",
       "    </tr>\n",
       "    <tr>\n",
       "      <td>1</td>\n",
       "      <td>1264978800</td>\n",
       "      <td>82.239998</td>\n",
       "      <td>74.190002</td>\n",
       "      <td>78.029999</td>\n",
       "      <td>79.599998</td>\n",
       "      <td>24407737</td>\n",
       "      <td>64.116020</td>\n",
       "      <td>2010-01-31</td>\n",
       "    </tr>\n",
       "    <tr>\n",
       "      <td>2</td>\n",
       "      <td>1267398000</td>\n",
       "      <td>87.989998</td>\n",
       "      <td>79.820000</td>\n",
       "      <td>80.000000</td>\n",
       "      <td>86.540001</td>\n",
       "      <td>23427153</td>\n",
       "      <td>69.706032</td>\n",
       "      <td>2010-02-28</td>\n",
       "    </tr>\n",
       "    <tr>\n",
       "      <td>3</td>\n",
       "      <td>1270072800</td>\n",
       "      <td>92.360001</td>\n",
       "      <td>84.120003</td>\n",
       "      <td>87.099998</td>\n",
       "      <td>86.839996</td>\n",
       "      <td>28990955</td>\n",
       "      <td>69.947693</td>\n",
       "      <td>2010-03-31</td>\n",
       "    </tr>\n",
       "    <tr>\n",
       "      <td>4</td>\n",
       "      <td>1272664800</td>\n",
       "      <td>92.500000</td>\n",
       "      <td>78.260002</td>\n",
       "      <td>86.169998</td>\n",
       "      <td>86.220001</td>\n",
       "      <td>38682777</td>\n",
       "      <td>69.448288</td>\n",
       "      <td>2010-04-30</td>\n",
       "    </tr>\n",
       "  </tbody>\n",
       "</table>\n",
       "</div>"
      ],
      "text/plain": [
       "         date       high        low       open      close    volume  \\\n",
       "0  1262300400  82.300003  76.599998  78.610001  79.070000  24245538   \n",
       "1  1264978800  82.239998  74.190002  78.029999  79.599998  24407737   \n",
       "2  1267398000  87.989998  79.820000  80.000000  86.540001  23427153   \n",
       "3  1270072800  92.360001  84.120003  87.099998  86.839996  28990955   \n",
       "4  1272664800  92.500000  78.260002  86.169998  86.220001  38682777   \n",
       "\n",
       "    adjclose formatted_date  \n",
       "0  63.689114     2009-12-31  \n",
       "1  64.116020     2010-01-31  \n",
       "2  69.706032     2010-02-28  \n",
       "3  69.947693     2010-03-31  \n",
       "4  69.448288     2010-04-30  "
      ]
     },
     "execution_count": 48,
     "metadata": {},
     "output_type": "execute_result"
    }
   ],
   "source": [
    "df_lvmh = pd.DataFrame.from_dict(lvmh_historical_prices)\n",
    "df_lvmh.head()"
   ]
  },
  {
   "cell_type": "code",
   "execution_count": 49,
   "metadata": {},
   "outputs": [
    {
     "data": {
      "text/plain": [
       "<matplotlib.axes._subplots.AxesSubplot at 0x14a80810>"
      ]
     },
     "execution_count": 49,
     "metadata": {},
     "output_type": "execute_result"
    },
    {
     "data": {
      "image/png": "[encoded data removed]",
      "text/plain": [
       "<Figure size 432x288 with 1 Axes>"
      ]
     },
     "metadata": {
      "needs_background": "light"
     },
     "output_type": "display_data"
    }
   ],
   "source": [
    "df_lvmh.plot(x='formatted_date', y='close')"
   ]
  }
 ],
 "metadata": {
  "kernelspec": {
   "display_name": "Python 3",
   "language": "python",
   "name": "python3"
  }
 },
 "nbformat": 4,
 "nbformat_minor": 2
}
