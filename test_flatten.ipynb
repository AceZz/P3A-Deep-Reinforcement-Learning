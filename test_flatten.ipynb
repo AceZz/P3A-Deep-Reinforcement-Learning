{
 "cells": [
  {
   "cell_type": "code",
   "execution_count": 1,
   "metadata": {},
   "outputs": [],
   "source": [
    "import numpy as np\n",
    "import tensorflow as tf\n",
    "import gym\n",
    "import os\n",
    "import datetime\n",
    "from gym import wrappers\n",
    "from tensorflow.keras.models import Sequential\n",
    "from tensorflow.keras.layers import Dense, Flatten, InputLayer"
   ]
  },
  {
   "cell_type": "code",
   "execution_count": 2,
   "metadata": {},
   "outputs": [],
   "source": [
    "class MyModel(tf.keras.Model):\n",
    "    def __init__(self, input_shape, hidden_units, num_actions): #previously input_shape was num_states\n",
    "        super(MyModel, self).__init__()\n",
    "#         self.input_layer = tf.keras.layers.InputLayer(input_shape=input_shape)\n",
    "        self.flatten = tf.keras.layers.Flatten(input_shape=input_shape, data_format=None)\n",
    "        self.hidden_layers = []\n",
    "        for i in hidden_units:\n",
    "            self.hidden_layers.append(tf.keras.layers.Dense(\n",
    "                i, activation='tanh', kernel_initializer='RandomNormal'))\n",
    "        self.output_layer = tf.keras.layers.Dense(\n",
    "            num_actions, activation='linear', kernel_initializer='RandomNormal')\n",
    "\n",
    "    @tf.function\n",
    "    def call(self, inputs):\n",
    "#         z = self.input_layer(inputs)\n",
    "#         input_z = z\n",
    "        z = self.flatten(inputs)\n",
    "#         flatten_z = z\n",
    "#         for layer in self.hidden_layers:\n",
    "#             z = layer(z)\n",
    "#         output = self.output_layer(z)\n",
    "#         return output\n",
    "        return inputs, z"
   ]
  },
  {
   "cell_type": "code",
   "execution_count": 10,
   "metadata": {},
   "outputs": [
    {
     "data": {
      "text/plain": [
       "(6, 6)"
      ]
     },
     "execution_count": 10,
     "metadata": {},
     "output_type": "execute_result"
    }
   ],
   "source": [
    "X = np.arange(0,36).reshape(6,6)\n",
    "X.shape"
   ]
  },
  {
   "cell_type": "code",
   "execution_count": 11,
   "metadata": {},
   "outputs": [
    {
     "name": "stdout",
     "output_type": "stream",
     "text": [
      "WARNING:tensorflow:Entity <bound method MyModel.call of <tensorflow.python.eager.function.TfMethodTarget object at 0x000001F014F36708>> could not be transformed and will be executed as-is. Please report this to the AutoGraph team. When filing the bug, set the verbosity to 10 (on Linux, `export AUTOGRAPH_VERBOSITY=10`) and attach the full output. Cause: Failed to parse source code of <bound method MyModel.call of <tensorflow.python.eager.function.TfMethodTarget object at 0x000001F014F36708>>, which Python reported as:\n",
      "    @tf.function\n",
      "    def call(self, inputs):\n",
      "#         z = self.input_layer(inputs)\n",
      "#         input_z = z\n",
      "        z = self.flatten(inputs)\n",
      "#         flatten_z = z\n",
      "#         for layer in self.hidden_layers:\n",
      "#             z = layer(z)\n",
      "#         output = self.output_layer(z)\n",
      "#         return output\n",
      "        return inputs, z\n",
      "\n",
      "This may be caused by multiline strings or comments not indented at the same level as the code.\n",
      "WARNING: Entity <bound method MyModel.call of <tensorflow.python.eager.function.TfMethodTarget object at 0x000001F014F36708>> could not be transformed and will be executed as-is. Please report this to the AutoGraph team. When filing the bug, set the verbosity to 10 (on Linux, `export AUTOGRAPH_VERBOSITY=10`) and attach the full output. Cause: Failed to parse source code of <bound method MyModel.call of <tensorflow.python.eager.function.TfMethodTarget object at 0x000001F014F36708>>, which Python reported as:\n",
      "    @tf.function\n",
      "    def call(self, inputs):\n",
      "#         z = self.input_layer(inputs)\n",
      "#         input_z = z\n",
      "        z = self.flatten(inputs)\n",
      "#         flatten_z = z\n",
      "#         for layer in self.hidden_layers:\n",
      "#             z = layer(z)\n",
      "#         output = self.output_layer(z)\n",
      "#         return output\n",
      "        return inputs, z\n",
      "\n",
      "This may be caused by multiline strings or comments not indented at the same level as the code.\n"
     ]
    },
    {
     "data": {
      "text/plain": [
       "(<tf.Tensor: id=21, shape=(6, 6), dtype=int32, numpy=\n",
       " array([[ 0,  1,  2,  3,  4,  5],\n",
       "        [ 6,  7,  8,  9, 10, 11],\n",
       "        [12, 13, 14, 15, 16, 17],\n",
       "        [18, 19, 20, 21, 22, 23],\n",
       "        [24, 25, 26, 27, 28, 29],\n",
       "        [30, 31, 32, 33, 34, 35]])>,\n",
       " <tf.Tensor: id=22, shape=(6, 6), dtype=int32, numpy=\n",
       " array([[ 0,  1,  2,  3,  4,  5],\n",
       "        [ 6,  7,  8,  9, 10, 11],\n",
       "        [12, 13, 14, 15, 16, 17],\n",
       "        [18, 19, 20, 21, 22, 23],\n",
       "        [24, 25, 26, 27, 28, 29],\n",
       "        [30, 31, 32, 33, 34, 35]])>)"
      ]
     },
     "execution_count": 11,
     "metadata": {},
     "output_type": "execute_result"
    }
   ],
   "source": [
    "input_shape = X.shape\n",
    "hidden_units = [200, 200]\n",
    "num_actions=3\n",
    "model = MyModel(input_shape, hidden_units, num_actions)\n",
    "model(X)"
   ]
  }
 ],
 "metadata": {
  "kernelspec": {
   "display_name": "Python 3",
   "language": "python",
   "name": "python3"
  },
  "language_info": {
   "codemirror_mode": {
    "name": "ipython",
    "version": 3
   },
   "file_extension": ".py",
   "mimetype": "text/x-python",
   "name": "python",
   "nbconvert_exporter": "python",
   "pygments_lexer": "ipython3",
   "version": "3.7.6"
  }
 },
 "nbformat": 4,
 "nbformat_minor": 2
}
